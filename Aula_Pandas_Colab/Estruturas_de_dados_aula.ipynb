{
  "nbformat": 4,
  "nbformat_minor": 0,
  "metadata": {
    "colab": {
      "provenance": [],
      "collapsed_sections": [],
      "authorship_tag": "ABX9TyNxkKmXlG0KzAe4oNsx65Du",
      "include_colab_link": true
    },
    "kernelspec": {
      "name": "python3",
      "display_name": "Python 3"
    },
    "language_info": {
      "name": "python"
    }
  },
  "cells": [
    {
      "cell_type": "markdown",
      "metadata": {
        "id": "view-in-github",
        "colab_type": "text"
      },
      "source": [
        "<a href=\"https://colab.research.google.com/github/BarbosaXBarbosa/Bootcamp_Dio_Data_Science/blob/main/Estruturas_de_dados_aula.ipynb\" target=\"_parent\"><img src=\"https://colab.research.google.com/assets/colab-badge.svg\" alt=\"Open In Colab\"/></a>"
      ]
    },
    {
      "cell_type": "markdown",
      "source": [
        "# Estrutura de Dados"
      ],
      "metadata": {
        "id": "ivDhdKOLvdSB"
      }
    },
    {
      "cell_type": "markdown",
      "source": [
        "## Listas"
      ],
      "metadata": {
        "id": "oM_cX9zdviGg"
      }
    },
    {
      "cell_type": "code",
      "source": [
        "# Criando uma lista chamada animais\n",
        "animais = [1,2,3]\n",
        "animais"
      ],
      "metadata": {
        "colab": {
          "base_uri": "https://localhost:8080/"
        },
        "id": "L5f-Ibx3vluQ",
        "outputId": "8a32f365-6f17-44f3-ca9e-6d8deb800082"
      },
      "execution_count": 10,
      "outputs": [
        {
          "output_type": "execute_result",
          "data": {
            "text/plain": [
              "[1, 2, 3]"
            ]
          },
          "metadata": {},
          "execution_count": 10
        }
      ]
    },
    {
      "cell_type": "code",
      "source": [
        "animais = [\"Cachorro\", \"gato\", 12345, 6.5] # //Perceba que a lista no python pode ser feita utilizando vários tipos\n",
        "animais"
      ],
      "metadata": {
        "colab": {
          "base_uri": "https://localhost:8080/"
        },
        "id": "_Bqh0-mxvtvK",
        "outputId": "d419eb5b-5e8f-4000-b677-8e21b3d2c2b5"
      },
      "execution_count": 11,
      "outputs": [
        {
          "output_type": "execute_result",
          "data": {
            "text/plain": [
              "['Cachorro', 'gato', 12345, 6.5]"
            ]
          },
          "metadata": {},
          "execution_count": 11
        }
      ]
    },
    {
      "cell_type": "code",
      "source": [
        "animais[3] + animais[2] # Teste para ver se os tipos precisam de conversão ou não."
      ],
      "metadata": {
        "colab": {
          "base_uri": "https://localhost:8080/"
        },
        "id": "xj06cGcAv5lJ",
        "outputId": "eeacf10e-8e75-4cd2-a926-661b9e46983c"
      },
      "execution_count": 12,
      "outputs": [
        {
          "output_type": "execute_result",
          "data": {
            "text/plain": [
              "12351.5"
            ]
          },
          "metadata": {},
          "execution_count": 12
        }
      ]
    },
    {
      "cell_type": "code",
      "source": [
        "# imprimindo o primeiro elemento da lista\n",
        "animais[0]"
      ],
      "metadata": {
        "colab": {
          "base_uri": "https://localhost:8080/",
          "height": 36
        },
        "id": "AERNmhJlv395",
        "outputId": "802d2882-db38-4c0e-b0fb-3fef866f32ec"
      },
      "execution_count": 13,
      "outputs": [
        {
          "output_type": "execute_result",
          "data": {
            "text/plain": [
              "'Cachorro'"
            ],
            "application/vnd.google.colaboratory.intrinsic+json": {
              "type": "string"
            }
          },
          "metadata": {},
          "execution_count": 13
        }
      ]
    },
    {
      "cell_type": "code",
      "source": [
        "# Substituindo o primeiro elemento da lista\n",
        "animais[0] = \"papagaio\"\n",
        "animais"
      ],
      "metadata": {
        "colab": {
          "base_uri": "https://localhost:8080/"
        },
        "id": "dmaxBi4OwfNi",
        "outputId": "90befce3-3b11-4d9b-f358-1a426879c6e3"
      },
      "execution_count": 14,
      "outputs": [
        {
          "output_type": "execute_result",
          "data": {
            "text/plain": [
              "['papagaio', 'gato', 12345, 6.5]"
            ]
          },
          "metadata": {},
          "execution_count": 14
        }
      ]
    },
    {
      "cell_type": "code",
      "source": [
        "# Removendo um elemento da lista\n",
        "animais.remove(\"gato\") # //Aqui passamoos a string que queremos remover da lista//\n",
        "animais"
      ],
      "metadata": {
        "colab": {
          "base_uri": "https://localhost:8080/"
        },
        "id": "EqzPNf2Owkt4",
        "outputId": "e5e280d4-5c31-429c-b6bf-8f922df6b970"
      },
      "execution_count": 15,
      "outputs": [
        {
          "output_type": "execute_result",
          "data": {
            "text/plain": [
              "['papagaio', 12345, 6.5]"
            ]
          },
          "metadata": {},
          "execution_count": 15
        }
      ]
    },
    {
      "cell_type": "code",
      "source": [
        "animais.remove(animais[2]) # //Aqui passamos como argumento o index da lista para remover//\n",
        "animais"
      ],
      "metadata": {
        "id": "GC7AWYd6ECy3"
      },
      "execution_count": null,
      "outputs": []
    },
    {
      "cell_type": "code",
      "source": [
        "# Descobrindo o tamanho da lista\n",
        "len(animais)"
      ],
      "metadata": {
        "colab": {
          "base_uri": "https://localhost:8080/"
        },
        "id": "O3RccHm0D-gP",
        "outputId": "ca902ab7-aaaa-40db-c2c4-203b3ec82fd7"
      },
      "execution_count": 24,
      "outputs": [
        {
          "output_type": "execute_result",
          "data": {
            "text/plain": [
              "2"
            ]
          },
          "metadata": {},
          "execution_count": 24
        }
      ]
    },
    {
      "cell_type": "code",
      "source": [
        "# Método para saber se existe ou não um determinado item na lista\n",
        "\"gato\" in animais # //Passamos como valor o item \"gato\", que já deixou de existir por já ter sido removido, o retorno é sempre T or F//"
      ],
      "metadata": {
        "colab": {
          "base_uri": "https://localhost:8080/"
        },
        "id": "B2RnUtmOFpRI",
        "outputId": "5091bc34-b743-48b9-d1a6-068ef5cb9f00"
      },
      "execution_count": 26,
      "outputs": [
        {
          "output_type": "execute_result",
          "data": {
            "text/plain": [
              "False"
            ]
          },
          "metadata": {},
          "execution_count": 26
        }
      ]
    },
    {
      "cell_type": "markdown",
      "source": [
        "## Criando outra lista para novas exemplos."
      ],
      "metadata": {
        "id": "GaxnJih5GOUI"
      }
    },
    {
      "cell_type": "code",
      "source": [
        "lista = [500, 30, 300, 80, 10]  "
      ],
      "metadata": {
        "id": "PoEwm0z7F3gg"
      },
      "execution_count": 27,
      "outputs": []
    },
    {
      "cell_type": "code",
      "source": [
        "# Retornando o item de maior valor númerico da lista\n",
        "max(lista)"
      ],
      "metadata": {
        "colab": {
          "base_uri": "https://localhost:8080/"
        },
        "id": "jZx7A99VGM0v",
        "outputId": "80ddf610-e03c-42e0-a95f-710193a63e2a"
      },
      "execution_count": 28,
      "outputs": [
        {
          "output_type": "execute_result",
          "data": {
            "text/plain": [
              "500"
            ]
          },
          "metadata": {},
          "execution_count": 28
        }
      ]
    },
    {
      "cell_type": "code",
      "source": [
        "# Retornando o item de menor valor númerico da lista\n",
        "min(lista)"
      ],
      "metadata": {
        "colab": {
          "base_uri": "https://localhost:8080/"
        },
        "id": "NouAShmBGd8P",
        "outputId": "12be7f53-0a17-412f-b4d3-e2c9ea561243"
      },
      "execution_count": 29,
      "outputs": [
        {
          "output_type": "execute_result",
          "data": {
            "text/plain": [
              "10"
            ]
          },
          "metadata": {},
          "execution_count": 29
        }
      ]
    },
    {
      "cell_type": "code",
      "source": [
        "# Adicionando items na lista, NO FINAL\n",
        "animais.append(\"leão\")\n",
        "animais"
      ],
      "metadata": {
        "colab": {
          "base_uri": "https://localhost:8080/"
        },
        "id": "dcj5IOUWGlE_",
        "outputId": "2e24e85d-42b9-4951-aa09-3037a691fc8b"
      },
      "execution_count": 30,
      "outputs": [
        {
          "output_type": "execute_result",
          "data": {
            "text/plain": [
              "['papagaio', 12345, 'leão']"
            ]
          },
          "metadata": {},
          "execution_count": 30
        }
      ]
    },
    {
      "cell_type": "code",
      "source": [
        "# Tentando adicionar mais de um item da forma ERRADA\n",
        "animais.append([\"cobra, 6\"])\n",
        "animais # // Observe que o resultado é um array dentro de outro, porque o argumento que passamos em append é introduzido sem nenhum tratamento da maneira que passamos.//"
      ],
      "metadata": {
        "colab": {
          "base_uri": "https://localhost:8080/"
        },
        "id": "p6D5RN2HG5mX",
        "outputId": "a4b2edf9-7d51-4654-caf9-90a6deac36d6"
      },
      "execution_count": 36,
      "outputs": [
        {
          "output_type": "execute_result",
          "data": {
            "text/plain": [
              "['papagaio', 12345, 'leão', ['cobra, 6']]"
            ]
          },
          "metadata": {},
          "execution_count": 36
        }
      ]
    },
    {
      "cell_type": "code",
      "source": [
        "animais.remove(animais[3]) # //Corrigindo...//\n",
        "animais"
      ],
      "metadata": {
        "colab": {
          "base_uri": "https://localhost:8080/"
        },
        "id": "KS21x8sBHTp_",
        "outputId": "12744a17-5dfe-4e3d-b50a-2d4f26019680"
      },
      "execution_count": 37,
      "outputs": [
        {
          "output_type": "execute_result",
          "data": {
            "text/plain": [
              "['papagaio', 12345, 'leão']"
            ]
          },
          "metadata": {},
          "execution_count": 37
        }
      ]
    },
    {
      "cell_type": "code",
      "source": [
        "# Jeito certo\n",
        "animais.extend([\"cobra\", 6]) # // Aqui usamos o método extend(), ele extensiona a lista adicionando a lista ou tupla de argumento.//\n",
        "animais"
      ],
      "metadata": {
        "colab": {
          "base_uri": "https://localhost:8080/"
        },
        "id": "vwvRcv03Hszn",
        "outputId": "6c89fbce-7e0a-4d7d-9125-1f360fbbce27"
      },
      "execution_count": 38,
      "outputs": [
        {
          "output_type": "execute_result",
          "data": {
            "text/plain": [
              "['papagaio', 12345, 'leão', 'cobra', 6]"
            ]
          },
          "metadata": {},
          "execution_count": 38
        }
      ]
    },
    {
      "cell_type": "code",
      "source": [
        "# Ordena a lista conforme o argumento...\n",
        "\n",
        "lista.sort()\n",
        "lista"
      ],
      "metadata": {
        "colab": {
          "base_uri": "https://localhost:8080/"
        },
        "id": "0z3poGfyILZI",
        "outputId": "49f8ed01-e2a3-4dd0-f86d-9814e19ab9f2"
      },
      "execution_count": 40,
      "outputs": [
        {
          "output_type": "execute_result",
          "data": {
            "text/plain": [
              "[10, 30, 80, 300, 500]"
            ]
          },
          "metadata": {},
          "execution_count": 40
        }
      ]
    },
    {
      "cell_type": "code",
      "source": [
        "# Fatiamento de listas\n",
        "animais[0:2]"
      ],
      "metadata": {
        "colab": {
          "base_uri": "https://localhost:8080/"
        },
        "id": "n10yJEeJKP4P",
        "outputId": "ef0462e8-8d69-4ab8-ae65-70c2bd59dfce"
      },
      "execution_count": 47,
      "outputs": [
        {
          "output_type": "execute_result",
          "data": {
            "text/plain": [
              "['papagaio', 12345]"
            ]
          },
          "metadata": {},
          "execution_count": 47
        }
      ]
    },
    {
      "cell_type": "code",
      "source": [],
      "metadata": {
        "id": "4Fuh4B9JKU7N"
      },
      "execution_count": null,
      "outputs": []
    },
    {
      "cell_type": "markdown",
      "source": [
        "## Tuplas"
      ],
      "metadata": {
        "id": "Y0vlc6XBInX_"
      }
    },
    {
      "cell_type": "markdown",
      "source": [
        "As tuplas, no Python, se parecem com as listas. Porém os valores que passamos em uma tupla são imutáveis ou seja, *CONSTANTES*."
      ],
      "metadata": {
        "id": "PdK6fAJDI97R"
      }
    },
    {
      "cell_type": "code",
      "source": [
        "# As tuplas usam parênteses como sintaxe\n",
        "tp = (\"Banana\", \"Maçã\", 10, 50)"
      ],
      "metadata": {
        "id": "DrU6OSJRIqXf"
      },
      "execution_count": 42,
      "outputs": []
    },
    {
      "cell_type": "code",
      "source": [
        "# Retornando o primeiro elemento\n",
        "tp[0]"
      ],
      "metadata": {
        "colab": {
          "base_uri": "https://localhost:8080/",
          "height": 36
        },
        "id": "mz0EuOiNIdMG",
        "outputId": "d208b8d9-51a3-4223-acf4-8354eada8eb0"
      },
      "execution_count": 43,
      "outputs": [
        {
          "output_type": "execute_result",
          "data": {
            "text/plain": [
              "'Banana'"
            ],
            "application/vnd.google.colaboratory.intrinsic+json": {
              "type": "string"
            }
          },
          "metadata": {},
          "execution_count": 43
        }
      ]
    },
    {
      "cell_type": "code",
      "source": [
        "# Observação da imutabilidade\n",
        "tp[0] = \"Laranja\" # <-------------------TypeError: 'tuple' object does not support item assignment//"
      ],
      "metadata": {
        "id": "UAeR2o9TJWu9"
      },
      "execution_count": null,
      "outputs": []
    },
    {
      "cell_type": "markdown",
      "source": [
        "- Observação dos comportamentos iguais ao da lista."
      ],
      "metadata": {
        "id": "p6h4KtklJxv4"
      }
    },
    {
      "cell_type": "code",
      "source": [
        "tp.count(\"Maçã\")"
      ],
      "metadata": {
        "colab": {
          "base_uri": "https://localhost:8080/"
        },
        "id": "9kS9SSxWJhWv",
        "outputId": "209ade7c-e36b-497b-868c-cf38adff91c0"
      },
      "execution_count": 45,
      "outputs": [
        {
          "output_type": "execute_result",
          "data": {
            "text/plain": [
              "1"
            ]
          },
          "metadata": {},
          "execution_count": 45
        }
      ]
    },
    {
      "cell_type": "code",
      "source": [
        "tp[0:2]"
      ],
      "metadata": {
        "colab": {
          "base_uri": "https://localhost:8080/"
        },
        "id": "n6grr3aPJq7O",
        "outputId": "7c126799-ada7-443a-e057-2a2476813a99"
      },
      "execution_count": 46,
      "outputs": [
        {
          "output_type": "execute_result",
          "data": {
            "text/plain": [
              "('Banana', 'Maçã')"
            ]
          },
          "metadata": {},
          "execution_count": 46
        }
      ]
    },
    {
      "cell_type": "markdown",
      "source": [
        "## Dicionários"
      ],
      "metadata": {
        "id": "CBkE1RiAKeWf"
      }
    },
    {
      "cell_type": "code",
      "source": [
        "# Para cria um dicionário utilizamos as {}\n",
        "dc = {\"Maça\":20, \"Banana\":10, \"Laranja\":15} # Dicionários trabalham com o conceito de chave e valor"
      ],
      "metadata": {
        "id": "48iLlPtVKf9X"
      },
      "execution_count": 49,
      "outputs": []
    },
    {
      "cell_type": "code",
      "source": [
        "dc"
      ],
      "metadata": {
        "colab": {
          "base_uri": "https://localhost:8080/"
        },
        "id": "Dn4d6B3CJwfe",
        "outputId": "64bd1b76-47e8-4fe9-bfae-bf2d575b6143"
      },
      "execution_count": 50,
      "outputs": [
        {
          "output_type": "execute_result",
          "data": {
            "text/plain": [
              "{'Maça': 20, 'Banana': 10, 'Laranja': 15}"
            ]
          },
          "metadata": {},
          "execution_count": 50
        }
      ]
    },
    {
      "cell_type": "code",
      "source": [
        "# Acessando o valor de um dicionário através da chave\n",
        "dc[\"Maçã\"] # <---------------------KeyError: 'Maçã'//\n",
        "\n",
        "# Ops, a chave tem que estar correta."
      ],
      "metadata": {
        "id": "leHUMjRuLJ9f"
      },
      "execution_count": null,
      "outputs": []
    },
    {
      "cell_type": "code",
      "source": [
        "# Tentando de novo\n",
        "dc[\"Maça\"] #<-----------Retorno da chave: 20//"
      ],
      "metadata": {
        "colab": {
          "base_uri": "https://localhost:8080/"
        },
        "id": "uRKLoA-KLS6O",
        "outputId": "41ce6f96-34b1-48eb-b38f-0664098977ed"
      },
      "execution_count": 52,
      "outputs": [
        {
          "output_type": "execute_result",
          "data": {
            "text/plain": [
              "20"
            ]
          },
          "metadata": {},
          "execution_count": 52
        }
      ]
    },
    {
      "cell_type": "markdown",
      "source": [
        "- Pode ser atualizada. "
      ],
      "metadata": {
        "id": "Qake_ShBL4o_"
      }
    },
    {
      "cell_type": "code",
      "source": [
        "# Atualizando o valor da chave Maça\n",
        "dc[\"Maça\"] = 25\n",
        "dc"
      ],
      "metadata": {
        "colab": {
          "base_uri": "https://localhost:8080/"
        },
        "id": "dwvyDvIFL9j_",
        "outputId": "894687dd-9f02-413b-8cab-74be89b2c96f"
      },
      "execution_count": 53,
      "outputs": [
        {
          "output_type": "execute_result",
          "data": {
            "text/plain": [
              "{'Maça': 25, 'Banana': 10, 'Laranja': 15}"
            ]
          },
          "metadata": {},
          "execution_count": 53
        }
      ]
    },
    {
      "cell_type": "code",
      "source": [
        "# Retorno das chaves do dicionário\n",
        "dc.keys() # // Perceba que o retorno é uma lista//"
      ],
      "metadata": {
        "colab": {
          "base_uri": "https://localhost:8080/"
        },
        "id": "Wr0hg-hIMGPH",
        "outputId": "1a0d4282-1b26-4974-cecd-8337bf8cf8b2"
      },
      "execution_count": 54,
      "outputs": [
        {
          "output_type": "execute_result",
          "data": {
            "text/plain": [
              "dict_keys(['Maça', 'Banana', 'Laranja'])"
            ]
          },
          "metadata": {},
          "execution_count": 54
        }
      ]
    },
    {
      "cell_type": "code",
      "source": [
        "# Retornando os valores\n",
        "dc.values()"
      ],
      "metadata": {
        "colab": {
          "base_uri": "https://localhost:8080/"
        },
        "id": "ZAJVGv9wMNQv",
        "outputId": "0bfa6f54-16d1-4717-dc7c-ff5b35753d4b"
      },
      "execution_count": 55,
      "outputs": [
        {
          "output_type": "execute_result",
          "data": {
            "text/plain": [
              "dict_values([25, 10, 15])"
            ]
          },
          "metadata": {},
          "execution_count": 55
        }
      ]
    },
    {
      "cell_type": "code",
      "source": [
        "# Verifica se já existe yma chave no diciona´rios e caso não exista ele insere.\n",
        "dc.setdefault(\"Limão\", 22)\n",
        "dc"
      ],
      "metadata": {
        "colab": {
          "base_uri": "https://localhost:8080/"
        },
        "id": "6A9nlirnMcEe",
        "outputId": "577adbdc-b3f4-466e-c158-16410a1a4dc2"
      },
      "execution_count": 56,
      "outputs": [
        {
          "output_type": "execute_result",
          "data": {
            "text/plain": [
              "{'Maça': 25, 'Banana': 10, 'Laranja': 15, 'Limão': 22}"
            ]
          },
          "metadata": {},
          "execution_count": 56
        }
      ]
    },
    {
      "cell_type": "code",
      "source": [],
      "metadata": {
        "id": "YtWXwO8UMm0N"
      },
      "execution_count": null,
      "outputs": []
    },
    {
      "cell_type": "code",
      "source": [],
      "metadata": {
        "id": "oZvKl3b2L7Vg"
      },
      "execution_count": null,
      "outputs": []
    },
    {
      "cell_type": "code",
      "source": [],
      "metadata": {
        "id": "kOgJYWSZLnnv"
      },
      "execution_count": null,
      "outputs": []
    },
    {
      "cell_type": "code",
      "source": [],
      "metadata": {
        "id": "rr5vIbPBIbc3"
      },
      "execution_count": null,
      "outputs": []
    },
    {
      "cell_type": "code",
      "source": [],
      "metadata": {
        "id": "Qqo_fiImHOEf"
      },
      "execution_count": null,
      "outputs": []
    },
    {
      "cell_type": "code",
      "source": [],
      "metadata": {
        "id": "k9pPPFcOHMWH"
      },
      "execution_count": null,
      "outputs": []
    },
    {
      "cell_type": "code",
      "source": [],
      "metadata": {
        "id": "Kvbv7B5gHLVn"
      },
      "execution_count": null,
      "outputs": []
    },
    {
      "cell_type": "code",
      "source": [],
      "metadata": {
        "id": "BZf9xQKIHJY_"
      },
      "execution_count": null,
      "outputs": []
    },
    {
      "cell_type": "code",
      "source": [],
      "metadata": {
        "id": "6jf2hlDbHFs3"
      },
      "execution_count": null,
      "outputs": []
    },
    {
      "cell_type": "code",
      "source": [],
      "metadata": {
        "id": "BOOAAgyCF1E5"
      },
      "execution_count": null,
      "outputs": []
    },
    {
      "cell_type": "code",
      "source": [],
      "metadata": {
        "id": "2KIjjCb3D8ov"
      },
      "execution_count": null,
      "outputs": []
    },
    {
      "cell_type": "code",
      "source": [],
      "metadata": {
        "id": "XH3DT5oYD4c-"
      },
      "execution_count": null,
      "outputs": []
    },
    {
      "cell_type": "code",
      "source": [],
      "metadata": {
        "id": "jw-sp1ekD1nX"
      },
      "execution_count": null,
      "outputs": []
    },
    {
      "cell_type": "code",
      "source": [],
      "metadata": {
        "id": "-sG10FuODzfH"
      },
      "execution_count": null,
      "outputs": []
    },
    {
      "cell_type": "code",
      "source": [],
      "metadata": {
        "id": "BJOG6H63DyZP"
      },
      "execution_count": null,
      "outputs": []
    },
    {
      "cell_type": "code",
      "source": [],
      "metadata": {
        "id": "8pAnIp5bDwwH"
      },
      "execution_count": null,
      "outputs": []
    },
    {
      "cell_type": "code",
      "source": [],
      "metadata": {
        "id": "egWA5YgFDcTo"
      },
      "execution_count": 15,
      "outputs": []
    }
  ]
}