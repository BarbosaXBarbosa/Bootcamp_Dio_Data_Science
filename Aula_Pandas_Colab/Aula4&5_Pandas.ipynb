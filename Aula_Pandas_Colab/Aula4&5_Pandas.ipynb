{
  "nbformat": 4,
  "nbformat_minor": 0,
  "metadata": {
    "colab": {
      "provenance": [],
      "collapsed_sections": [],
      "mount_file_id": "1KmngKi4BirhkGLLtDEfjByg3loVlGuIN",
      "authorship_tag": "ABX9TyMUtdjNMpHHkY8uefjU1RID",
      "include_colab_link": true
    },
    "kernelspec": {
      "name": "python3",
      "display_name": "Python 3"
    },
    "language_info": {
      "name": "python"
    }
  },
  "cells": [
    {
      "cell_type": "markdown",
      "metadata": {
        "id": "view-in-github",
        "colab_type": "text"
      },
      "source": [
        "<a href=\"https://colab.research.google.com/github/BarbosaXBarbosa/Bootcamp_Dio_Data_Science/blob/main/Aula4%265_Pandas.ipynb\" target=\"_parent\"><img src=\"https://colab.research.google.com/assets/colab-badge.svg\" alt=\"Open In Colab\"/></a>"
      ]
    },
    {
      "cell_type": "markdown",
      "source": [
        "# Aula 4\n"
      ],
      "metadata": {
        "id": "3N5ArouhqRFJ"
      }
    },
    {
      "cell_type": "markdown",
      "source": [
        "## Trabalhando com Planilhas do Excel"
      ],
      "metadata": {
        "id": "PkRJOgy6LvrL"
      }
    },
    {
      "cell_type": "code",
      "execution_count": null,
      "metadata": {
        "id": "Q80EbG5gLlDi"
      },
      "outputs": [],
      "source": [
        "# Importando a biblioteca\n",
        "import pandas as pd"
      ]
    },
    {
      "cell_type": "code",
      "source": [
        "# Leitura dos Arquivos\n",
        "df1 = pd.read_excel(\"/content/drive/MyDrive/Colab Notebooks/PandasAulaDio/datasets/Aracaju.xlsx\")\n",
        "df2 = pd.read_excel(\"/content/drive/MyDrive/Colab Notebooks/PandasAulaDio/datasets/Fortaleza.xlsx\")\n",
        "df3 = pd.read_excel(\"/content/drive/MyDrive/Colab Notebooks/PandasAulaDio/datasets/Natal.xlsx\")\n",
        "df4 = pd.read_excel(\"/content/drive/MyDrive/Colab Notebooks/PandasAulaDio/datasets/Recife.xlsx\")\n",
        "df5 = pd.read_excel(\"/content/drive/MyDrive/Colab Notebooks/PandasAulaDio/datasets/Salvador.xlsx\")"
      ],
      "metadata": {
        "id": "LoAM6S5GMG4Z"
      },
      "execution_count": null,
      "outputs": []
    },
    {
      "cell_type": "code",
      "source": [
        "# dfX.head() // Rode esse código e observe que todos df possuem a mesma estrutura."
      ],
      "metadata": {
        "id": "Hb24tuscPxty"
      },
      "execution_count": null,
      "outputs": []
    },
    {
      "cell_type": "code",
      "source": [
        "# Aqui concatenamos os DataFrames, ou seja, juntamos\n",
        "df = pd.concat([df1, df2, df3, df4, df5])"
      ],
      "metadata": {
        "id": "_MR8yuglPSfb"
      },
      "execution_count": null,
      "outputs": []
    },
    {
      "cell_type": "code",
      "source": [
        "df.head()"
      ],
      "metadata": {
        "colab": {
          "base_uri": "https://localhost:8080/",
          "height": 206
        },
        "id": "qKzuTo0yQZPL",
        "outputId": "536bfeac-711b-4463-830e-b2bb30de7fe5"
      },
      "execution_count": null,
      "outputs": [
        {
          "output_type": "execute_result",
          "data": {
            "text/plain": [
              "    Cidade       Data  Vendas  LojaID  Qtde\n",
              "0  Aracaju 2018-01-01  142.00    1520     1\n",
              "1  Aracaju 2018-01-01   14.21    1522     6\n",
              "2  Aracaju 2018-01-01   71.55    1520     1\n",
              "3  Aracaju 2018-01-01    3.01    1521     7\n",
              "4  Aracaju 2018-01-01   24.51    1522     8"
            ],
            "text/html": [
              "\n",
              "  <div id=\"df-1591a0ea-53c9-4f0a-996f-cb0012b511fd\">\n",
              "    <div class=\"colab-df-container\">\n",
              "      <div>\n",
              "<style scoped>\n",
              "    .dataframe tbody tr th:only-of-type {\n",
              "        vertical-align: middle;\n",
              "    }\n",
              "\n",
              "    .dataframe tbody tr th {\n",
              "        vertical-align: top;\n",
              "    }\n",
              "\n",
              "    .dataframe thead th {\n",
              "        text-align: right;\n",
              "    }\n",
              "</style>\n",
              "<table border=\"1\" class=\"dataframe\">\n",
              "  <thead>\n",
              "    <tr style=\"text-align: right;\">\n",
              "      <th></th>\n",
              "      <th>Cidade</th>\n",
              "      <th>Data</th>\n",
              "      <th>Vendas</th>\n",
              "      <th>LojaID</th>\n",
              "      <th>Qtde</th>\n",
              "    </tr>\n",
              "  </thead>\n",
              "  <tbody>\n",
              "    <tr>\n",
              "      <th>0</th>\n",
              "      <td>Aracaju</td>\n",
              "      <td>2018-01-01</td>\n",
              "      <td>142.00</td>\n",
              "      <td>1520</td>\n",
              "      <td>1</td>\n",
              "    </tr>\n",
              "    <tr>\n",
              "      <th>1</th>\n",
              "      <td>Aracaju</td>\n",
              "      <td>2018-01-01</td>\n",
              "      <td>14.21</td>\n",
              "      <td>1522</td>\n",
              "      <td>6</td>\n",
              "    </tr>\n",
              "    <tr>\n",
              "      <th>2</th>\n",
              "      <td>Aracaju</td>\n",
              "      <td>2018-01-01</td>\n",
              "      <td>71.55</td>\n",
              "      <td>1520</td>\n",
              "      <td>1</td>\n",
              "    </tr>\n",
              "    <tr>\n",
              "      <th>3</th>\n",
              "      <td>Aracaju</td>\n",
              "      <td>2018-01-01</td>\n",
              "      <td>3.01</td>\n",
              "      <td>1521</td>\n",
              "      <td>7</td>\n",
              "    </tr>\n",
              "    <tr>\n",
              "      <th>4</th>\n",
              "      <td>Aracaju</td>\n",
              "      <td>2018-01-01</td>\n",
              "      <td>24.51</td>\n",
              "      <td>1522</td>\n",
              "      <td>8</td>\n",
              "    </tr>\n",
              "  </tbody>\n",
              "</table>\n",
              "</div>\n",
              "      <button class=\"colab-df-convert\" onclick=\"convertToInteractive('df-1591a0ea-53c9-4f0a-996f-cb0012b511fd')\"\n",
              "              title=\"Convert this dataframe to an interactive table.\"\n",
              "              style=\"display:none;\">\n",
              "        \n",
              "  <svg xmlns=\"http://www.w3.org/2000/svg\" height=\"24px\"viewBox=\"0 0 24 24\"\n",
              "       width=\"24px\">\n",
              "    <path d=\"M0 0h24v24H0V0z\" fill=\"none\"/>\n",
              "    <path d=\"M18.56 5.44l.94 2.06.94-2.06 2.06-.94-2.06-.94-.94-2.06-.94 2.06-2.06.94zm-11 1L8.5 8.5l.94-2.06 2.06-.94-2.06-.94L8.5 2.5l-.94 2.06-2.06.94zm10 10l.94 2.06.94-2.06 2.06-.94-2.06-.94-.94-2.06-.94 2.06-2.06.94z\"/><path d=\"M17.41 7.96l-1.37-1.37c-.4-.4-.92-.59-1.43-.59-.52 0-1.04.2-1.43.59L10.3 9.45l-7.72 7.72c-.78.78-.78 2.05 0 2.83L4 21.41c.39.39.9.59 1.41.59.51 0 1.02-.2 1.41-.59l7.78-7.78 2.81-2.81c.8-.78.8-2.07 0-2.86zM5.41 20L4 18.59l7.72-7.72 1.47 1.35L5.41 20z\"/>\n",
              "  </svg>\n",
              "      </button>\n",
              "      \n",
              "  <style>\n",
              "    .colab-df-container {\n",
              "      display:flex;\n",
              "      flex-wrap:wrap;\n",
              "      gap: 12px;\n",
              "    }\n",
              "\n",
              "    .colab-df-convert {\n",
              "      background-color: #E8F0FE;\n",
              "      border: none;\n",
              "      border-radius: 50%;\n",
              "      cursor: pointer;\n",
              "      display: none;\n",
              "      fill: #1967D2;\n",
              "      height: 32px;\n",
              "      padding: 0 0 0 0;\n",
              "      width: 32px;\n",
              "    }\n",
              "\n",
              "    .colab-df-convert:hover {\n",
              "      background-color: #E2EBFA;\n",
              "      box-shadow: 0px 1px 2px rgba(60, 64, 67, 0.3), 0px 1px 3px 1px rgba(60, 64, 67, 0.15);\n",
              "      fill: #174EA6;\n",
              "    }\n",
              "\n",
              "    [theme=dark] .colab-df-convert {\n",
              "      background-color: #3B4455;\n",
              "      fill: #D2E3FC;\n",
              "    }\n",
              "\n",
              "    [theme=dark] .colab-df-convert:hover {\n",
              "      background-color: #434B5C;\n",
              "      box-shadow: 0px 1px 3px 1px rgba(0, 0, 0, 0.15);\n",
              "      filter: drop-shadow(0px 1px 2px rgba(0, 0, 0, 0.3));\n",
              "      fill: #FFFFFF;\n",
              "    }\n",
              "  </style>\n",
              "\n",
              "      <script>\n",
              "        const buttonEl =\n",
              "          document.querySelector('#df-1591a0ea-53c9-4f0a-996f-cb0012b511fd button.colab-df-convert');\n",
              "        buttonEl.style.display =\n",
              "          google.colab.kernel.accessAllowed ? 'block' : 'none';\n",
              "\n",
              "        async function convertToInteractive(key) {\n",
              "          const element = document.querySelector('#df-1591a0ea-53c9-4f0a-996f-cb0012b511fd');\n",
              "          const dataTable =\n",
              "            await google.colab.kernel.invokeFunction('convertToInteractive',\n",
              "                                                     [key], {});\n",
              "          if (!dataTable) return;\n",
              "\n",
              "          const docLinkHtml = 'Like what you see? Visit the ' +\n",
              "            '<a target=\"_blank\" href=https://colab.research.google.com/notebooks/data_table.ipynb>data table notebook</a>'\n",
              "            + ' to learn more about interactive tables.';\n",
              "          element.innerHTML = '';\n",
              "          dataTable['output_type'] = 'display_data';\n",
              "          await google.colab.output.renderOutput(dataTable, element);\n",
              "          const docLink = document.createElement('div');\n",
              "          docLink.innerHTML = docLinkHtml;\n",
              "          element.appendChild(docLink);\n",
              "        }\n",
              "      </script>\n",
              "    </div>\n",
              "  </div>\n",
              "  "
            ]
          },
          "metadata": {},
          "execution_count": 6
        }
      ]
    },
    {
      "cell_type": "code",
      "source": [
        "df.tail()"
      ],
      "metadata": {
        "colab": {
          "base_uri": "https://localhost:8080/",
          "height": 206
        },
        "id": "Ndp2Z50cQbbD",
        "outputId": "ecb75a04-adec-4b7d-c868-8439d73127f9"
      },
      "execution_count": null,
      "outputs": [
        {
          "output_type": "execute_result",
          "data": {
            "text/plain": [
              "       Cidade       Data  Vendas  LojaID  Qtde\n",
              "235  Salvador 2019-01-03   41.84    1034     1\n",
              "236  Salvador 2019-01-03  126.29    1035     3\n",
              "237  Salvador 2019-01-03   38.06    1036     3\n",
              "238  Salvador 2019-01-03  139.64    1035     1\n",
              "239  Salvador 2019-01-03  161.41    1037     3"
            ],
            "text/html": [
              "\n",
              "  <div id=\"df-6210705a-02f6-4641-b275-e3004a241c01\">\n",
              "    <div class=\"colab-df-container\">\n",
              "      <div>\n",
              "<style scoped>\n",
              "    .dataframe tbody tr th:only-of-type {\n",
              "        vertical-align: middle;\n",
              "    }\n",
              "\n",
              "    .dataframe tbody tr th {\n",
              "        vertical-align: top;\n",
              "    }\n",
              "\n",
              "    .dataframe thead th {\n",
              "        text-align: right;\n",
              "    }\n",
              "</style>\n",
              "<table border=\"1\" class=\"dataframe\">\n",
              "  <thead>\n",
              "    <tr style=\"text-align: right;\">\n",
              "      <th></th>\n",
              "      <th>Cidade</th>\n",
              "      <th>Data</th>\n",
              "      <th>Vendas</th>\n",
              "      <th>LojaID</th>\n",
              "      <th>Qtde</th>\n",
              "    </tr>\n",
              "  </thead>\n",
              "  <tbody>\n",
              "    <tr>\n",
              "      <th>235</th>\n",
              "      <td>Salvador</td>\n",
              "      <td>2019-01-03</td>\n",
              "      <td>41.84</td>\n",
              "      <td>1034</td>\n",
              "      <td>1</td>\n",
              "    </tr>\n",
              "    <tr>\n",
              "      <th>236</th>\n",
              "      <td>Salvador</td>\n",
              "      <td>2019-01-03</td>\n",
              "      <td>126.29</td>\n",
              "      <td>1035</td>\n",
              "      <td>3</td>\n",
              "    </tr>\n",
              "    <tr>\n",
              "      <th>237</th>\n",
              "      <td>Salvador</td>\n",
              "      <td>2019-01-03</td>\n",
              "      <td>38.06</td>\n",
              "      <td>1036</td>\n",
              "      <td>3</td>\n",
              "    </tr>\n",
              "    <tr>\n",
              "      <th>238</th>\n",
              "      <td>Salvador</td>\n",
              "      <td>2019-01-03</td>\n",
              "      <td>139.64</td>\n",
              "      <td>1035</td>\n",
              "      <td>1</td>\n",
              "    </tr>\n",
              "    <tr>\n",
              "      <th>239</th>\n",
              "      <td>Salvador</td>\n",
              "      <td>2019-01-03</td>\n",
              "      <td>161.41</td>\n",
              "      <td>1037</td>\n",
              "      <td>3</td>\n",
              "    </tr>\n",
              "  </tbody>\n",
              "</table>\n",
              "</div>\n",
              "      <button class=\"colab-df-convert\" onclick=\"convertToInteractive('df-6210705a-02f6-4641-b275-e3004a241c01')\"\n",
              "              title=\"Convert this dataframe to an interactive table.\"\n",
              "              style=\"display:none;\">\n",
              "        \n",
              "  <svg xmlns=\"http://www.w3.org/2000/svg\" height=\"24px\"viewBox=\"0 0 24 24\"\n",
              "       width=\"24px\">\n",
              "    <path d=\"M0 0h24v24H0V0z\" fill=\"none\"/>\n",
              "    <path d=\"M18.56 5.44l.94 2.06.94-2.06 2.06-.94-2.06-.94-.94-2.06-.94 2.06-2.06.94zm-11 1L8.5 8.5l.94-2.06 2.06-.94-2.06-.94L8.5 2.5l-.94 2.06-2.06.94zm10 10l.94 2.06.94-2.06 2.06-.94-2.06-.94-.94-2.06-.94 2.06-2.06.94z\"/><path d=\"M17.41 7.96l-1.37-1.37c-.4-.4-.92-.59-1.43-.59-.52 0-1.04.2-1.43.59L10.3 9.45l-7.72 7.72c-.78.78-.78 2.05 0 2.83L4 21.41c.39.39.9.59 1.41.59.51 0 1.02-.2 1.41-.59l7.78-7.78 2.81-2.81c.8-.78.8-2.07 0-2.86zM5.41 20L4 18.59l7.72-7.72 1.47 1.35L5.41 20z\"/>\n",
              "  </svg>\n",
              "      </button>\n",
              "      \n",
              "  <style>\n",
              "    .colab-df-container {\n",
              "      display:flex;\n",
              "      flex-wrap:wrap;\n",
              "      gap: 12px;\n",
              "    }\n",
              "\n",
              "    .colab-df-convert {\n",
              "      background-color: #E8F0FE;\n",
              "      border: none;\n",
              "      border-radius: 50%;\n",
              "      cursor: pointer;\n",
              "      display: none;\n",
              "      fill: #1967D2;\n",
              "      height: 32px;\n",
              "      padding: 0 0 0 0;\n",
              "      width: 32px;\n",
              "    }\n",
              "\n",
              "    .colab-df-convert:hover {\n",
              "      background-color: #E2EBFA;\n",
              "      box-shadow: 0px 1px 2px rgba(60, 64, 67, 0.3), 0px 1px 3px 1px rgba(60, 64, 67, 0.15);\n",
              "      fill: #174EA6;\n",
              "    }\n",
              "\n",
              "    [theme=dark] .colab-df-convert {\n",
              "      background-color: #3B4455;\n",
              "      fill: #D2E3FC;\n",
              "    }\n",
              "\n",
              "    [theme=dark] .colab-df-convert:hover {\n",
              "      background-color: #434B5C;\n",
              "      box-shadow: 0px 1px 3px 1px rgba(0, 0, 0, 0.15);\n",
              "      filter: drop-shadow(0px 1px 2px rgba(0, 0, 0, 0.3));\n",
              "      fill: #FFFFFF;\n",
              "    }\n",
              "  </style>\n",
              "\n",
              "      <script>\n",
              "        const buttonEl =\n",
              "          document.querySelector('#df-6210705a-02f6-4641-b275-e3004a241c01 button.colab-df-convert');\n",
              "        buttonEl.style.display =\n",
              "          google.colab.kernel.accessAllowed ? 'block' : 'none';\n",
              "\n",
              "        async function convertToInteractive(key) {\n",
              "          const element = document.querySelector('#df-6210705a-02f6-4641-b275-e3004a241c01');\n",
              "          const dataTable =\n",
              "            await google.colab.kernel.invokeFunction('convertToInteractive',\n",
              "                                                     [key], {});\n",
              "          if (!dataTable) return;\n",
              "\n",
              "          const docLinkHtml = 'Like what you see? Visit the ' +\n",
              "            '<a target=\"_blank\" href=https://colab.research.google.com/notebooks/data_table.ipynb>data table notebook</a>'\n",
              "            + ' to learn more about interactive tables.';\n",
              "          element.innerHTML = '';\n",
              "          dataTable['output_type'] = 'display_data';\n",
              "          await google.colab.output.renderOutput(dataTable, element);\n",
              "          const docLink = document.createElement('div');\n",
              "          docLink.innerHTML = docLinkHtml;\n",
              "          element.appendChild(docLink);\n",
              "        }\n",
              "      </script>\n",
              "    </div>\n",
              "  </div>\n",
              "  "
            ]
          },
          "metadata": {},
          "execution_count": 7
        }
      ]
    },
    {
      "cell_type": "code",
      "source": [
        "# Aqui pegamos 5 amostras do df\n",
        "df.sample(5)"
      ],
      "metadata": {
        "colab": {
          "base_uri": "https://localhost:8080/",
          "height": 206
        },
        "id": "QjJxEl3SQeDS",
        "outputId": "3a3452ba-86df-4895-9a25-bd1c6b5095c7"
      },
      "execution_count": null,
      "outputs": [
        {
          "output_type": "execute_result",
          "data": {
            "text/plain": [
              "        Cidade       Data  Vendas  LojaID  Qtde\n",
              "27       Natal 2018-07-16  390.00     853     3\n",
              "15    Salvador 2019-01-01   20.15    1036     3\n",
              "126   Salvador 2019-03-02   41.69    1036     2\n",
              "28   Fortaleza 2019-01-01   34.88    1004     3\n",
              "139  Fortaleza 2019-03-02  141.16     980     7"
            ],
            "text/html": [
              "\n",
              "  <div id=\"df-1126fa4a-da45-4489-a0c3-f7d9f25db538\">\n",
              "    <div class=\"colab-df-container\">\n",
              "      <div>\n",
              "<style scoped>\n",
              "    .dataframe tbody tr th:only-of-type {\n",
              "        vertical-align: middle;\n",
              "    }\n",
              "\n",
              "    .dataframe tbody tr th {\n",
              "        vertical-align: top;\n",
              "    }\n",
              "\n",
              "    .dataframe thead th {\n",
              "        text-align: right;\n",
              "    }\n",
              "</style>\n",
              "<table border=\"1\" class=\"dataframe\">\n",
              "  <thead>\n",
              "    <tr style=\"text-align: right;\">\n",
              "      <th></th>\n",
              "      <th>Cidade</th>\n",
              "      <th>Data</th>\n",
              "      <th>Vendas</th>\n",
              "      <th>LojaID</th>\n",
              "      <th>Qtde</th>\n",
              "    </tr>\n",
              "  </thead>\n",
              "  <tbody>\n",
              "    <tr>\n",
              "      <th>27</th>\n",
              "      <td>Natal</td>\n",
              "      <td>2018-07-16</td>\n",
              "      <td>390.00</td>\n",
              "      <td>853</td>\n",
              "      <td>3</td>\n",
              "    </tr>\n",
              "    <tr>\n",
              "      <th>15</th>\n",
              "      <td>Salvador</td>\n",
              "      <td>2019-01-01</td>\n",
              "      <td>20.15</td>\n",
              "      <td>1036</td>\n",
              "      <td>3</td>\n",
              "    </tr>\n",
              "    <tr>\n",
              "      <th>126</th>\n",
              "      <td>Salvador</td>\n",
              "      <td>2019-03-02</td>\n",
              "      <td>41.69</td>\n",
              "      <td>1036</td>\n",
              "      <td>2</td>\n",
              "    </tr>\n",
              "    <tr>\n",
              "      <th>28</th>\n",
              "      <td>Fortaleza</td>\n",
              "      <td>2019-01-01</td>\n",
              "      <td>34.88</td>\n",
              "      <td>1004</td>\n",
              "      <td>3</td>\n",
              "    </tr>\n",
              "    <tr>\n",
              "      <th>139</th>\n",
              "      <td>Fortaleza</td>\n",
              "      <td>2019-03-02</td>\n",
              "      <td>141.16</td>\n",
              "      <td>980</td>\n",
              "      <td>7</td>\n",
              "    </tr>\n",
              "  </tbody>\n",
              "</table>\n",
              "</div>\n",
              "      <button class=\"colab-df-convert\" onclick=\"convertToInteractive('df-1126fa4a-da45-4489-a0c3-f7d9f25db538')\"\n",
              "              title=\"Convert this dataframe to an interactive table.\"\n",
              "              style=\"display:none;\">\n",
              "        \n",
              "  <svg xmlns=\"http://www.w3.org/2000/svg\" height=\"24px\"viewBox=\"0 0 24 24\"\n",
              "       width=\"24px\">\n",
              "    <path d=\"M0 0h24v24H0V0z\" fill=\"none\"/>\n",
              "    <path d=\"M18.56 5.44l.94 2.06.94-2.06 2.06-.94-2.06-.94-.94-2.06-.94 2.06-2.06.94zm-11 1L8.5 8.5l.94-2.06 2.06-.94-2.06-.94L8.5 2.5l-.94 2.06-2.06.94zm10 10l.94 2.06.94-2.06 2.06-.94-2.06-.94-.94-2.06-.94 2.06-2.06.94z\"/><path d=\"M17.41 7.96l-1.37-1.37c-.4-.4-.92-.59-1.43-.59-.52 0-1.04.2-1.43.59L10.3 9.45l-7.72 7.72c-.78.78-.78 2.05 0 2.83L4 21.41c.39.39.9.59 1.41.59.51 0 1.02-.2 1.41-.59l7.78-7.78 2.81-2.81c.8-.78.8-2.07 0-2.86zM5.41 20L4 18.59l7.72-7.72 1.47 1.35L5.41 20z\"/>\n",
              "  </svg>\n",
              "      </button>\n",
              "      \n",
              "  <style>\n",
              "    .colab-df-container {\n",
              "      display:flex;\n",
              "      flex-wrap:wrap;\n",
              "      gap: 12px;\n",
              "    }\n",
              "\n",
              "    .colab-df-convert {\n",
              "      background-color: #E8F0FE;\n",
              "      border: none;\n",
              "      border-radius: 50%;\n",
              "      cursor: pointer;\n",
              "      display: none;\n",
              "      fill: #1967D2;\n",
              "      height: 32px;\n",
              "      padding: 0 0 0 0;\n",
              "      width: 32px;\n",
              "    }\n",
              "\n",
              "    .colab-df-convert:hover {\n",
              "      background-color: #E2EBFA;\n",
              "      box-shadow: 0px 1px 2px rgba(60, 64, 67, 0.3), 0px 1px 3px 1px rgba(60, 64, 67, 0.15);\n",
              "      fill: #174EA6;\n",
              "    }\n",
              "\n",
              "    [theme=dark] .colab-df-convert {\n",
              "      background-color: #3B4455;\n",
              "      fill: #D2E3FC;\n",
              "    }\n",
              "\n",
              "    [theme=dark] .colab-df-convert:hover {\n",
              "      background-color: #434B5C;\n",
              "      box-shadow: 0px 1px 3px 1px rgba(0, 0, 0, 0.15);\n",
              "      filter: drop-shadow(0px 1px 2px rgba(0, 0, 0, 0.3));\n",
              "      fill: #FFFFFF;\n",
              "    }\n",
              "  </style>\n",
              "\n",
              "      <script>\n",
              "        const buttonEl =\n",
              "          document.querySelector('#df-1126fa4a-da45-4489-a0c3-f7d9f25db538 button.colab-df-convert');\n",
              "        buttonEl.style.display =\n",
              "          google.colab.kernel.accessAllowed ? 'block' : 'none';\n",
              "\n",
              "        async function convertToInteractive(key) {\n",
              "          const element = document.querySelector('#df-1126fa4a-da45-4489-a0c3-f7d9f25db538');\n",
              "          const dataTable =\n",
              "            await google.colab.kernel.invokeFunction('convertToInteractive',\n",
              "                                                     [key], {});\n",
              "          if (!dataTable) return;\n",
              "\n",
              "          const docLinkHtml = 'Like what you see? Visit the ' +\n",
              "            '<a target=\"_blank\" href=https://colab.research.google.com/notebooks/data_table.ipynb>data table notebook</a>'\n",
              "            + ' to learn more about interactive tables.';\n",
              "          element.innerHTML = '';\n",
              "          dataTable['output_type'] = 'display_data';\n",
              "          await google.colab.output.renderOutput(dataTable, element);\n",
              "          const docLink = document.createElement('div');\n",
              "          docLink.innerHTML = docLinkHtml;\n",
              "          element.appendChild(docLink);\n",
              "        }\n",
              "      </script>\n",
              "    </div>\n",
              "  </div>\n",
              "  "
            ]
          },
          "metadata": {},
          "execution_count": 8
        }
      ]
    },
    {
      "cell_type": "code",
      "source": [
        "# Verificando o tipo de dado das colunas\n",
        "df.dtypes"
      ],
      "metadata": {
        "colab": {
          "base_uri": "https://localhost:8080/"
        },
        "id": "uHuezafKQnqq",
        "outputId": "433f6967-ffef-4c98-bd1e-43db2987da1f"
      },
      "execution_count": null,
      "outputs": [
        {
          "output_type": "execute_result",
          "data": {
            "text/plain": [
              "Cidade            object\n",
              "Data      datetime64[ns]\n",
              "Vendas           float64\n",
              "LojaID             int64\n",
              "Qtde               int64\n",
              "dtype: object"
            ]
          },
          "metadata": {},
          "execution_count": 9
        }
      ]
    },
    {
      "cell_type": "markdown",
      "source": [
        "- Perceba que a coluna lojaId recebeu o tipo inteiro, porém este atributo trata-se de um código utilizado pelas lojas para diferenciá-las. O tipo inteiro é utilizado para calculos, então vamos alterar o tipo de dado desta coluna."
      ],
      "metadata": {
        "id": "imxUkRDEQ_RS"
      }
    },
    {
      "cell_type": "code",
      "source": [
        "# Alterando o o tipo de dado da coluna LojaID\n",
        "df[\"LojaID\"] = df[\"LojaID\"].astype(\"object\")\n",
        "df.dtypes"
      ],
      "metadata": {
        "colab": {
          "base_uri": "https://localhost:8080/"
        },
        "id": "No10ChRtQyP7",
        "outputId": "63efed2f-fe8a-49d8-f061-0729f6d4e4fb"
      },
      "execution_count": null,
      "outputs": [
        {
          "output_type": "execute_result",
          "data": {
            "text/plain": [
              "Cidade            object\n",
              "Data      datetime64[ns]\n",
              "Vendas           float64\n",
              "LojaID            object\n",
              "Qtde               int64\n",
              "dtype: object"
            ]
          },
          "metadata": {},
          "execution_count": 10
        }
      ]
    },
    {
      "cell_type": "code",
      "source": [
        "df.head()"
      ],
      "metadata": {
        "colab": {
          "base_uri": "https://localhost:8080/",
          "height": 206
        },
        "id": "UuD6DI7WL_7o",
        "outputId": "7a883369-ce79-45ff-cb33-b0390460d8d0"
      },
      "execution_count": null,
      "outputs": [
        {
          "output_type": "execute_result",
          "data": {
            "text/plain": [
              "    Cidade       Data  Vendas LojaID  Qtde\n",
              "0  Aracaju 2018-01-01  142.00   1520     1\n",
              "1  Aracaju 2018-01-01   14.21   1522     6\n",
              "2  Aracaju 2018-01-01   71.55   1520     1\n",
              "3  Aracaju 2018-01-01    3.01   1521     7\n",
              "4  Aracaju 2018-01-01   24.51   1522     8"
            ],
            "text/html": [
              "\n",
              "  <div id=\"df-0d6c9170-7453-442f-a8c5-981899474bc6\">\n",
              "    <div class=\"colab-df-container\">\n",
              "      <div>\n",
              "<style scoped>\n",
              "    .dataframe tbody tr th:only-of-type {\n",
              "        vertical-align: middle;\n",
              "    }\n",
              "\n",
              "    .dataframe tbody tr th {\n",
              "        vertical-align: top;\n",
              "    }\n",
              "\n",
              "    .dataframe thead th {\n",
              "        text-align: right;\n",
              "    }\n",
              "</style>\n",
              "<table border=\"1\" class=\"dataframe\">\n",
              "  <thead>\n",
              "    <tr style=\"text-align: right;\">\n",
              "      <th></th>\n",
              "      <th>Cidade</th>\n",
              "      <th>Data</th>\n",
              "      <th>Vendas</th>\n",
              "      <th>LojaID</th>\n",
              "      <th>Qtde</th>\n",
              "    </tr>\n",
              "  </thead>\n",
              "  <tbody>\n",
              "    <tr>\n",
              "      <th>0</th>\n",
              "      <td>Aracaju</td>\n",
              "      <td>2018-01-01</td>\n",
              "      <td>142.00</td>\n",
              "      <td>1520</td>\n",
              "      <td>1</td>\n",
              "    </tr>\n",
              "    <tr>\n",
              "      <th>1</th>\n",
              "      <td>Aracaju</td>\n",
              "      <td>2018-01-01</td>\n",
              "      <td>14.21</td>\n",
              "      <td>1522</td>\n",
              "      <td>6</td>\n",
              "    </tr>\n",
              "    <tr>\n",
              "      <th>2</th>\n",
              "      <td>Aracaju</td>\n",
              "      <td>2018-01-01</td>\n",
              "      <td>71.55</td>\n",
              "      <td>1520</td>\n",
              "      <td>1</td>\n",
              "    </tr>\n",
              "    <tr>\n",
              "      <th>3</th>\n",
              "      <td>Aracaju</td>\n",
              "      <td>2018-01-01</td>\n",
              "      <td>3.01</td>\n",
              "      <td>1521</td>\n",
              "      <td>7</td>\n",
              "    </tr>\n",
              "    <tr>\n",
              "      <th>4</th>\n",
              "      <td>Aracaju</td>\n",
              "      <td>2018-01-01</td>\n",
              "      <td>24.51</td>\n",
              "      <td>1522</td>\n",
              "      <td>8</td>\n",
              "    </tr>\n",
              "  </tbody>\n",
              "</table>\n",
              "</div>\n",
              "      <button class=\"colab-df-convert\" onclick=\"convertToInteractive('df-0d6c9170-7453-442f-a8c5-981899474bc6')\"\n",
              "              title=\"Convert this dataframe to an interactive table.\"\n",
              "              style=\"display:none;\">\n",
              "        \n",
              "  <svg xmlns=\"http://www.w3.org/2000/svg\" height=\"24px\"viewBox=\"0 0 24 24\"\n",
              "       width=\"24px\">\n",
              "    <path d=\"M0 0h24v24H0V0z\" fill=\"none\"/>\n",
              "    <path d=\"M18.56 5.44l.94 2.06.94-2.06 2.06-.94-2.06-.94-.94-2.06-.94 2.06-2.06.94zm-11 1L8.5 8.5l.94-2.06 2.06-.94-2.06-.94L8.5 2.5l-.94 2.06-2.06.94zm10 10l.94 2.06.94-2.06 2.06-.94-2.06-.94-.94-2.06-.94 2.06-2.06.94z\"/><path d=\"M17.41 7.96l-1.37-1.37c-.4-.4-.92-.59-1.43-.59-.52 0-1.04.2-1.43.59L10.3 9.45l-7.72 7.72c-.78.78-.78 2.05 0 2.83L4 21.41c.39.39.9.59 1.41.59.51 0 1.02-.2 1.41-.59l7.78-7.78 2.81-2.81c.8-.78.8-2.07 0-2.86zM5.41 20L4 18.59l7.72-7.72 1.47 1.35L5.41 20z\"/>\n",
              "  </svg>\n",
              "      </button>\n",
              "      \n",
              "  <style>\n",
              "    .colab-df-container {\n",
              "      display:flex;\n",
              "      flex-wrap:wrap;\n",
              "      gap: 12px;\n",
              "    }\n",
              "\n",
              "    .colab-df-convert {\n",
              "      background-color: #E8F0FE;\n",
              "      border: none;\n",
              "      border-radius: 50%;\n",
              "      cursor: pointer;\n",
              "      display: none;\n",
              "      fill: #1967D2;\n",
              "      height: 32px;\n",
              "      padding: 0 0 0 0;\n",
              "      width: 32px;\n",
              "    }\n",
              "\n",
              "    .colab-df-convert:hover {\n",
              "      background-color: #E2EBFA;\n",
              "      box-shadow: 0px 1px 2px rgba(60, 64, 67, 0.3), 0px 1px 3px 1px rgba(60, 64, 67, 0.15);\n",
              "      fill: #174EA6;\n",
              "    }\n",
              "\n",
              "    [theme=dark] .colab-df-convert {\n",
              "      background-color: #3B4455;\n",
              "      fill: #D2E3FC;\n",
              "    }\n",
              "\n",
              "    [theme=dark] .colab-df-convert:hover {\n",
              "      background-color: #434B5C;\n",
              "      box-shadow: 0px 1px 3px 1px rgba(0, 0, 0, 0.15);\n",
              "      filter: drop-shadow(0px 1px 2px rgba(0, 0, 0, 0.3));\n",
              "      fill: #FFFFFF;\n",
              "    }\n",
              "  </style>\n",
              "\n",
              "      <script>\n",
              "        const buttonEl =\n",
              "          document.querySelector('#df-0d6c9170-7453-442f-a8c5-981899474bc6 button.colab-df-convert');\n",
              "        buttonEl.style.display =\n",
              "          google.colab.kernel.accessAllowed ? 'block' : 'none';\n",
              "\n",
              "        async function convertToInteractive(key) {\n",
              "          const element = document.querySelector('#df-0d6c9170-7453-442f-a8c5-981899474bc6');\n",
              "          const dataTable =\n",
              "            await google.colab.kernel.invokeFunction('convertToInteractive',\n",
              "                                                     [key], {});\n",
              "          if (!dataTable) return;\n",
              "\n",
              "          const docLinkHtml = 'Like what you see? Visit the ' +\n",
              "            '<a target=\"_blank\" href=https://colab.research.google.com/notebooks/data_table.ipynb>data table notebook</a>'\n",
              "            + ' to learn more about interactive tables.';\n",
              "          element.innerHTML = '';\n",
              "          dataTable['output_type'] = 'display_data';\n",
              "          await google.colab.output.renderOutput(dataTable, element);\n",
              "          const docLink = document.createElement('div');\n",
              "          docLink.innerHTML = docLinkHtml;\n",
              "          element.appendChild(docLink);\n",
              "        }\n",
              "      </script>\n",
              "    </div>\n",
              "  </div>\n",
              "  "
            ]
          },
          "metadata": {},
          "execution_count": 11
        }
      ]
    },
    {
      "cell_type": "markdown",
      "source": [
        "------------------------------------------------------------------------------------------------------"
      ],
      "metadata": {
        "id": "TPqF8UJxR9oy"
      }
    },
    {
      "cell_type": "markdown",
      "source": [
        "### Tratando valores faltantes"
      ],
      "metadata": {
        "id": "qF6m1UWASBl6"
      }
    },
    {
      "cell_type": "code",
      "source": [
        "#Consultando linhas com valores faltantes\n",
        "df.isnull() # // Retorna os falso ou verdadeiro para cada valor de todo o dataframe."
      ],
      "metadata": {
        "colab": {
          "base_uri": "https://localhost:8080/",
          "height": 424
        },
        "id": "YDSP9_nWRvHy",
        "outputId": "235ef0aa-d1fb-4044-963f-17f9282a5e23"
      },
      "execution_count": null,
      "outputs": [
        {
          "output_type": "execute_result",
          "data": {
            "text/plain": [
              "     Cidade   Data  Vendas  LojaID   Qtde\n",
              "0     False  False   False   False  False\n",
              "1     False  False   False   False  False\n",
              "2     False  False   False   False  False\n",
              "3     False  False   False   False  False\n",
              "4     False  False   False   False  False\n",
              "..      ...    ...     ...     ...    ...\n",
              "235   False  False   False   False  False\n",
              "236   False  False   False   False  False\n",
              "237   False  False   False   False  False\n",
              "238   False  False   False   False  False\n",
              "239   False  False   False   False  False\n",
              "\n",
              "[894 rows x 5 columns]"
            ],
            "text/html": [
              "\n",
              "  <div id=\"df-8b4e88bb-4e8d-463f-b004-e65d27731f44\">\n",
              "    <div class=\"colab-df-container\">\n",
              "      <div>\n",
              "<style scoped>\n",
              "    .dataframe tbody tr th:only-of-type {\n",
              "        vertical-align: middle;\n",
              "    }\n",
              "\n",
              "    .dataframe tbody tr th {\n",
              "        vertical-align: top;\n",
              "    }\n",
              "\n",
              "    .dataframe thead th {\n",
              "        text-align: right;\n",
              "    }\n",
              "</style>\n",
              "<table border=\"1\" class=\"dataframe\">\n",
              "  <thead>\n",
              "    <tr style=\"text-align: right;\">\n",
              "      <th></th>\n",
              "      <th>Cidade</th>\n",
              "      <th>Data</th>\n",
              "      <th>Vendas</th>\n",
              "      <th>LojaID</th>\n",
              "      <th>Qtde</th>\n",
              "    </tr>\n",
              "  </thead>\n",
              "  <tbody>\n",
              "    <tr>\n",
              "      <th>0</th>\n",
              "      <td>False</td>\n",
              "      <td>False</td>\n",
              "      <td>False</td>\n",
              "      <td>False</td>\n",
              "      <td>False</td>\n",
              "    </tr>\n",
              "    <tr>\n",
              "      <th>1</th>\n",
              "      <td>False</td>\n",
              "      <td>False</td>\n",
              "      <td>False</td>\n",
              "      <td>False</td>\n",
              "      <td>False</td>\n",
              "    </tr>\n",
              "    <tr>\n",
              "      <th>2</th>\n",
              "      <td>False</td>\n",
              "      <td>False</td>\n",
              "      <td>False</td>\n",
              "      <td>False</td>\n",
              "      <td>False</td>\n",
              "    </tr>\n",
              "    <tr>\n",
              "      <th>3</th>\n",
              "      <td>False</td>\n",
              "      <td>False</td>\n",
              "      <td>False</td>\n",
              "      <td>False</td>\n",
              "      <td>False</td>\n",
              "    </tr>\n",
              "    <tr>\n",
              "      <th>4</th>\n",
              "      <td>False</td>\n",
              "      <td>False</td>\n",
              "      <td>False</td>\n",
              "      <td>False</td>\n",
              "      <td>False</td>\n",
              "    </tr>\n",
              "    <tr>\n",
              "      <th>...</th>\n",
              "      <td>...</td>\n",
              "      <td>...</td>\n",
              "      <td>...</td>\n",
              "      <td>...</td>\n",
              "      <td>...</td>\n",
              "    </tr>\n",
              "    <tr>\n",
              "      <th>235</th>\n",
              "      <td>False</td>\n",
              "      <td>False</td>\n",
              "      <td>False</td>\n",
              "      <td>False</td>\n",
              "      <td>False</td>\n",
              "    </tr>\n",
              "    <tr>\n",
              "      <th>236</th>\n",
              "      <td>False</td>\n",
              "      <td>False</td>\n",
              "      <td>False</td>\n",
              "      <td>False</td>\n",
              "      <td>False</td>\n",
              "    </tr>\n",
              "    <tr>\n",
              "      <th>237</th>\n",
              "      <td>False</td>\n",
              "      <td>False</td>\n",
              "      <td>False</td>\n",
              "      <td>False</td>\n",
              "      <td>False</td>\n",
              "    </tr>\n",
              "    <tr>\n",
              "      <th>238</th>\n",
              "      <td>False</td>\n",
              "      <td>False</td>\n",
              "      <td>False</td>\n",
              "      <td>False</td>\n",
              "      <td>False</td>\n",
              "    </tr>\n",
              "    <tr>\n",
              "      <th>239</th>\n",
              "      <td>False</td>\n",
              "      <td>False</td>\n",
              "      <td>False</td>\n",
              "      <td>False</td>\n",
              "      <td>False</td>\n",
              "    </tr>\n",
              "  </tbody>\n",
              "</table>\n",
              "<p>894 rows × 5 columns</p>\n",
              "</div>\n",
              "      <button class=\"colab-df-convert\" onclick=\"convertToInteractive('df-8b4e88bb-4e8d-463f-b004-e65d27731f44')\"\n",
              "              title=\"Convert this dataframe to an interactive table.\"\n",
              "              style=\"display:none;\">\n",
              "        \n",
              "  <svg xmlns=\"http://www.w3.org/2000/svg\" height=\"24px\"viewBox=\"0 0 24 24\"\n",
              "       width=\"24px\">\n",
              "    <path d=\"M0 0h24v24H0V0z\" fill=\"none\"/>\n",
              "    <path d=\"M18.56 5.44l.94 2.06.94-2.06 2.06-.94-2.06-.94-.94-2.06-.94 2.06-2.06.94zm-11 1L8.5 8.5l.94-2.06 2.06-.94-2.06-.94L8.5 2.5l-.94 2.06-2.06.94zm10 10l.94 2.06.94-2.06 2.06-.94-2.06-.94-.94-2.06-.94 2.06-2.06.94z\"/><path d=\"M17.41 7.96l-1.37-1.37c-.4-.4-.92-.59-1.43-.59-.52 0-1.04.2-1.43.59L10.3 9.45l-7.72 7.72c-.78.78-.78 2.05 0 2.83L4 21.41c.39.39.9.59 1.41.59.51 0 1.02-.2 1.41-.59l7.78-7.78 2.81-2.81c.8-.78.8-2.07 0-2.86zM5.41 20L4 18.59l7.72-7.72 1.47 1.35L5.41 20z\"/>\n",
              "  </svg>\n",
              "      </button>\n",
              "      \n",
              "  <style>\n",
              "    .colab-df-container {\n",
              "      display:flex;\n",
              "      flex-wrap:wrap;\n",
              "      gap: 12px;\n",
              "    }\n",
              "\n",
              "    .colab-df-convert {\n",
              "      background-color: #E8F0FE;\n",
              "      border: none;\n",
              "      border-radius: 50%;\n",
              "      cursor: pointer;\n",
              "      display: none;\n",
              "      fill: #1967D2;\n",
              "      height: 32px;\n",
              "      padding: 0 0 0 0;\n",
              "      width: 32px;\n",
              "    }\n",
              "\n",
              "    .colab-df-convert:hover {\n",
              "      background-color: #E2EBFA;\n",
              "      box-shadow: 0px 1px 2px rgba(60, 64, 67, 0.3), 0px 1px 3px 1px rgba(60, 64, 67, 0.15);\n",
              "      fill: #174EA6;\n",
              "    }\n",
              "\n",
              "    [theme=dark] .colab-df-convert {\n",
              "      background-color: #3B4455;\n",
              "      fill: #D2E3FC;\n",
              "    }\n",
              "\n",
              "    [theme=dark] .colab-df-convert:hover {\n",
              "      background-color: #434B5C;\n",
              "      box-shadow: 0px 1px 3px 1px rgba(0, 0, 0, 0.15);\n",
              "      filter: drop-shadow(0px 1px 2px rgba(0, 0, 0, 0.3));\n",
              "      fill: #FFFFFF;\n",
              "    }\n",
              "  </style>\n",
              "\n",
              "      <script>\n",
              "        const buttonEl =\n",
              "          document.querySelector('#df-8b4e88bb-4e8d-463f-b004-e65d27731f44 button.colab-df-convert');\n",
              "        buttonEl.style.display =\n",
              "          google.colab.kernel.accessAllowed ? 'block' : 'none';\n",
              "\n",
              "        async function convertToInteractive(key) {\n",
              "          const element = document.querySelector('#df-8b4e88bb-4e8d-463f-b004-e65d27731f44');\n",
              "          const dataTable =\n",
              "            await google.colab.kernel.invokeFunction('convertToInteractive',\n",
              "                                                     [key], {});\n",
              "          if (!dataTable) return;\n",
              "\n",
              "          const docLinkHtml = 'Like what you see? Visit the ' +\n",
              "            '<a target=\"_blank\" href=https://colab.research.google.com/notebooks/data_table.ipynb>data table notebook</a>'\n",
              "            + ' to learn more about interactive tables.';\n",
              "          element.innerHTML = '';\n",
              "          dataTable['output_type'] = 'display_data';\n",
              "          await google.colab.output.renderOutput(dataTable, element);\n",
              "          const docLink = document.createElement('div');\n",
              "          docLink.innerHTML = docLinkHtml;\n",
              "          element.appendChild(docLink);\n",
              "        }\n",
              "      </script>\n",
              "    </div>\n",
              "  </div>\n",
              "  "
            ]
          },
          "metadata": {},
          "execution_count": 12
        }
      ]
    },
    {
      "cell_type": "code",
      "source": [
        "df.isnull().sum() # // Vai somar os valores faltantes e retornar por coluna, devidamente agrupado."
      ],
      "metadata": {
        "colab": {
          "base_uri": "https://localhost:8080/"
        },
        "id": "NYfyWCGtSS2K",
        "outputId": "fedfcf2e-1ccf-4fb4-e62d-f67d5f1ef02b"
      },
      "execution_count": null,
      "outputs": [
        {
          "output_type": "execute_result",
          "data": {
            "text/plain": [
              "Cidade    0\n",
              "Data      0\n",
              "Vendas    0\n",
              "LojaID    0\n",
              "Qtde      0\n",
              "dtype: int64"
            ]
          },
          "metadata": {},
          "execution_count": 13
        }
      ]
    },
    {
      "cell_type": "code",
      "source": [
        "# Substituindo os valores nulos pelas médias\n",
        "# df[\"Vendas\"].fillna(df[\"Vendas\"].mean(), inplace = True) # // O método fillna preenche os valores nulos da coluna, passamos o parâmetro inplace para que seja substituido na base do df\n",
        "# df[\"Vendas\"].mean()"
      ],
      "metadata": {
        "id": "maL-GWOxSoDy"
      },
      "execution_count": null,
      "outputs": []
    },
    {
      "cell_type": "code",
      "source": [],
      "metadata": {
        "id": "MWXNFxLaZAVb"
      },
      "execution_count": null,
      "outputs": []
    },
    {
      "cell_type": "markdown",
      "source": [
        "- Substituimos os valores pela média, para que as alteraçõs não interfiram tanto na nossa análise."
      ],
      "metadata": {
        "id": "y58j1GJtYLbz"
      }
    },
    {
      "cell_type": "code",
      "source": [
        "# df.isnull().sum()"
      ],
      "metadata": {
        "id": "XflAjMjuYbE0"
      },
      "execution_count": null,
      "outputs": []
    },
    {
      "cell_type": "markdown",
      "source": [
        "- Ou podemos substituir por zero, se você achar que a média pode interferir demais na análise.\n",
        "\n"
      ],
      "metadata": {
        "id": "f1motxGWYmfS"
      }
    },
    {
      "cell_type": "code",
      "source": [
        "# df[\"Vendas\"].fillna(0, inplace = True)"
      ],
      "metadata": {
        "id": "xCCYcBCeYghM"
      },
      "execution_count": null,
      "outputs": []
    },
    {
      "cell_type": "markdown",
      "source": [
        "- Podemos também utilizar uma terceira abordagem, simplesmente a pagar a linha em que os valores nulos aparecem."
      ],
      "metadata": {
        "id": "lko5MLDrZbV9"
      }
    },
    {
      "cell_type": "code",
      "source": [
        "# Apagando as linhas com valores nulos.\n",
        "df.dropna(inplace = True) # // Observe que aqui não escolhemos a coluna, então se tiverem mais valores nulos em outras colunas eles também serão apagados.\n",
        "df.head()"
      ],
      "metadata": {
        "colab": {
          "base_uri": "https://localhost:8080/",
          "height": 206
        },
        "id": "sbxjzf9aYzSz",
        "outputId": "fa58ddb5-f04b-4541-eb66-d17658d97901"
      },
      "execution_count": null,
      "outputs": [
        {
          "output_type": "execute_result",
          "data": {
            "text/plain": [
              "    Cidade       Data  Vendas LojaID  Qtde\n",
              "0  Aracaju 2018-01-01  142.00   1520     1\n",
              "1  Aracaju 2018-01-01   14.21   1522     6\n",
              "2  Aracaju 2018-01-01   71.55   1520     1\n",
              "3  Aracaju 2018-01-01    3.01   1521     7\n",
              "4  Aracaju 2018-01-01   24.51   1522     8"
            ],
            "text/html": [
              "\n",
              "  <div id=\"df-4f24179d-cc7e-439a-9619-a022d22754aa\">\n",
              "    <div class=\"colab-df-container\">\n",
              "      <div>\n",
              "<style scoped>\n",
              "    .dataframe tbody tr th:only-of-type {\n",
              "        vertical-align: middle;\n",
              "    }\n",
              "\n",
              "    .dataframe tbody tr th {\n",
              "        vertical-align: top;\n",
              "    }\n",
              "\n",
              "    .dataframe thead th {\n",
              "        text-align: right;\n",
              "    }\n",
              "</style>\n",
              "<table border=\"1\" class=\"dataframe\">\n",
              "  <thead>\n",
              "    <tr style=\"text-align: right;\">\n",
              "      <th></th>\n",
              "      <th>Cidade</th>\n",
              "      <th>Data</th>\n",
              "      <th>Vendas</th>\n",
              "      <th>LojaID</th>\n",
              "      <th>Qtde</th>\n",
              "    </tr>\n",
              "  </thead>\n",
              "  <tbody>\n",
              "    <tr>\n",
              "      <th>0</th>\n",
              "      <td>Aracaju</td>\n",
              "      <td>2018-01-01</td>\n",
              "      <td>142.00</td>\n",
              "      <td>1520</td>\n",
              "      <td>1</td>\n",
              "    </tr>\n",
              "    <tr>\n",
              "      <th>1</th>\n",
              "      <td>Aracaju</td>\n",
              "      <td>2018-01-01</td>\n",
              "      <td>14.21</td>\n",
              "      <td>1522</td>\n",
              "      <td>6</td>\n",
              "    </tr>\n",
              "    <tr>\n",
              "      <th>2</th>\n",
              "      <td>Aracaju</td>\n",
              "      <td>2018-01-01</td>\n",
              "      <td>71.55</td>\n",
              "      <td>1520</td>\n",
              "      <td>1</td>\n",
              "    </tr>\n",
              "    <tr>\n",
              "      <th>3</th>\n",
              "      <td>Aracaju</td>\n",
              "      <td>2018-01-01</td>\n",
              "      <td>3.01</td>\n",
              "      <td>1521</td>\n",
              "      <td>7</td>\n",
              "    </tr>\n",
              "    <tr>\n",
              "      <th>4</th>\n",
              "      <td>Aracaju</td>\n",
              "      <td>2018-01-01</td>\n",
              "      <td>24.51</td>\n",
              "      <td>1522</td>\n",
              "      <td>8</td>\n",
              "    </tr>\n",
              "  </tbody>\n",
              "</table>\n",
              "</div>\n",
              "      <button class=\"colab-df-convert\" onclick=\"convertToInteractive('df-4f24179d-cc7e-439a-9619-a022d22754aa')\"\n",
              "              title=\"Convert this dataframe to an interactive table.\"\n",
              "              style=\"display:none;\">\n",
              "        \n",
              "  <svg xmlns=\"http://www.w3.org/2000/svg\" height=\"24px\"viewBox=\"0 0 24 24\"\n",
              "       width=\"24px\">\n",
              "    <path d=\"M0 0h24v24H0V0z\" fill=\"none\"/>\n",
              "    <path d=\"M18.56 5.44l.94 2.06.94-2.06 2.06-.94-2.06-.94-.94-2.06-.94 2.06-2.06.94zm-11 1L8.5 8.5l.94-2.06 2.06-.94-2.06-.94L8.5 2.5l-.94 2.06-2.06.94zm10 10l.94 2.06.94-2.06 2.06-.94-2.06-.94-.94-2.06-.94 2.06-2.06.94z\"/><path d=\"M17.41 7.96l-1.37-1.37c-.4-.4-.92-.59-1.43-.59-.52 0-1.04.2-1.43.59L10.3 9.45l-7.72 7.72c-.78.78-.78 2.05 0 2.83L4 21.41c.39.39.9.59 1.41.59.51 0 1.02-.2 1.41-.59l7.78-7.78 2.81-2.81c.8-.78.8-2.07 0-2.86zM5.41 20L4 18.59l7.72-7.72 1.47 1.35L5.41 20z\"/>\n",
              "  </svg>\n",
              "      </button>\n",
              "      \n",
              "  <style>\n",
              "    .colab-df-container {\n",
              "      display:flex;\n",
              "      flex-wrap:wrap;\n",
              "      gap: 12px;\n",
              "    }\n",
              "\n",
              "    .colab-df-convert {\n",
              "      background-color: #E8F0FE;\n",
              "      border: none;\n",
              "      border-radius: 50%;\n",
              "      cursor: pointer;\n",
              "      display: none;\n",
              "      fill: #1967D2;\n",
              "      height: 32px;\n",
              "      padding: 0 0 0 0;\n",
              "      width: 32px;\n",
              "    }\n",
              "\n",
              "    .colab-df-convert:hover {\n",
              "      background-color: #E2EBFA;\n",
              "      box-shadow: 0px 1px 2px rgba(60, 64, 67, 0.3), 0px 1px 3px 1px rgba(60, 64, 67, 0.15);\n",
              "      fill: #174EA6;\n",
              "    }\n",
              "\n",
              "    [theme=dark] .colab-df-convert {\n",
              "      background-color: #3B4455;\n",
              "      fill: #D2E3FC;\n",
              "    }\n",
              "\n",
              "    [theme=dark] .colab-df-convert:hover {\n",
              "      background-color: #434B5C;\n",
              "      box-shadow: 0px 1px 3px 1px rgba(0, 0, 0, 0.15);\n",
              "      filter: drop-shadow(0px 1px 2px rgba(0, 0, 0, 0.3));\n",
              "      fill: #FFFFFF;\n",
              "    }\n",
              "  </style>\n",
              "\n",
              "      <script>\n",
              "        const buttonEl =\n",
              "          document.querySelector('#df-4f24179d-cc7e-439a-9619-a022d22754aa button.colab-df-convert');\n",
              "        buttonEl.style.display =\n",
              "          google.colab.kernel.accessAllowed ? 'block' : 'none';\n",
              "\n",
              "        async function convertToInteractive(key) {\n",
              "          const element = document.querySelector('#df-4f24179d-cc7e-439a-9619-a022d22754aa');\n",
              "          const dataTable =\n",
              "            await google.colab.kernel.invokeFunction('convertToInteractive',\n",
              "                                                     [key], {});\n",
              "          if (!dataTable) return;\n",
              "\n",
              "          const docLinkHtml = 'Like what you see? Visit the ' +\n",
              "            '<a target=\"_blank\" href=https://colab.research.google.com/notebooks/data_table.ipynb>data table notebook</a>'\n",
              "            + ' to learn more about interactive tables.';\n",
              "          element.innerHTML = '';\n",
              "          dataTable['output_type'] = 'display_data';\n",
              "          await google.colab.output.renderOutput(dataTable, element);\n",
              "          const docLink = document.createElement('div');\n",
              "          docLink.innerHTML = docLinkHtml;\n",
              "          element.appendChild(docLink);\n",
              "        }\n",
              "      </script>\n",
              "    </div>\n",
              "  </div>\n",
              "  "
            ]
          },
          "metadata": {},
          "execution_count": 17
        }
      ]
    },
    {
      "cell_type": "code",
      "source": [
        "# Apagando as linhas com valores nulos com base em apenas 1 coluna\n",
        "df.dropna(subset=[\"Vendas\"], inplace = True)"
      ],
      "metadata": {
        "id": "CMK5knSnbbac"
      },
      "execution_count": null,
      "outputs": []
    },
    {
      "cell_type": "code",
      "source": [
        "#Removendo APENAS linhas que possuem valores nulos em todas as colunas\n",
        "df.dropna(how='all', inplace=True) # //Observe que se você rodar esse código o valor de linhas continua o mesmo, pois os valores nulos apenas na coluna da venda não satisfaz a condição."
      ],
      "metadata": {
        "id": "0DzubGn1bqa0"
      },
      "execution_count": null,
      "outputs": []
    },
    {
      "cell_type": "code",
      "source": [
        "# Retorna o número de linhas do Df, que se você utilizou a terceira abordagem pode diminuir.\n",
        "df.shape[0]"
      ],
      "metadata": {
        "colab": {
          "base_uri": "https://localhost:8080/"
        },
        "id": "ciumVaMpZ328",
        "outputId": "109f7165-e800-469f-f2a6-4b2bb213824a"
      },
      "execution_count": null,
      "outputs": [
        {
          "output_type": "execute_result",
          "data": {
            "text/plain": [
              "894"
            ]
          },
          "metadata": {},
          "execution_count": 20
        }
      ]
    },
    {
      "cell_type": "markdown",
      "source": [
        "\n",
        "\n",
        "> Perceba que como estamos fazendo as alterações 'inplace', para testar as abordagens você vai ter que rodar os códigos de importação e concatenação. Porque o inplace muda a estrutura da variável df (DataFrame).\n"
      ],
      "metadata": {
        "id": "-YcjfOMpaY2s"
      }
    },
    {
      "cell_type": "markdown",
      "source": [
        "--------------------------------------------------------------------------------------------------------------------------------------------------------------"
      ],
      "metadata": {
        "id": "2fN9wyyqcoqM"
      }
    },
    {
      "cell_type": "markdown",
      "source": [
        "### Criando colunas novas"
      ],
      "metadata": {
        "id": "VDIHHyGgcrlb"
      }
    },
    {
      "cell_type": "code",
      "source": [
        "# Criando a coluna de receita\n",
        "df[\"Receita\"] = df[\"Vendas\"].mul(df[\"Qtde\"]) # //A receita nada mais que a multiplicação(mul()) da venda pela quantidade de produto vendido"
      ],
      "metadata": {
        "id": "rNrpr7r0aH6c"
      },
      "execution_count": null,
      "outputs": []
    },
    {
      "cell_type": "code",
      "source": [
        "df.head()"
      ],
      "metadata": {
        "colab": {
          "base_uri": "https://localhost:8080/",
          "height": 206
        },
        "id": "XyvuM2OHc8Gs",
        "outputId": "21a6ddda-4ba3-4a74-ea98-18b0548f8d8e"
      },
      "execution_count": null,
      "outputs": [
        {
          "output_type": "execute_result",
          "data": {
            "text/plain": [
              "    Cidade       Data  Vendas LojaID  Qtde  Receita\n",
              "0  Aracaju 2018-01-01  142.00   1520     1   142.00\n",
              "1  Aracaju 2018-01-01   14.21   1522     6    85.26\n",
              "2  Aracaju 2018-01-01   71.55   1520     1    71.55\n",
              "3  Aracaju 2018-01-01    3.01   1521     7    21.07\n",
              "4  Aracaju 2018-01-01   24.51   1522     8   196.08"
            ],
            "text/html": [
              "\n",
              "  <div id=\"df-42195400-464c-4092-bb1b-255423b87c5e\">\n",
              "    <div class=\"colab-df-container\">\n",
              "      <div>\n",
              "<style scoped>\n",
              "    .dataframe tbody tr th:only-of-type {\n",
              "        vertical-align: middle;\n",
              "    }\n",
              "\n",
              "    .dataframe tbody tr th {\n",
              "        vertical-align: top;\n",
              "    }\n",
              "\n",
              "    .dataframe thead th {\n",
              "        text-align: right;\n",
              "    }\n",
              "</style>\n",
              "<table border=\"1\" class=\"dataframe\">\n",
              "  <thead>\n",
              "    <tr style=\"text-align: right;\">\n",
              "      <th></th>\n",
              "      <th>Cidade</th>\n",
              "      <th>Data</th>\n",
              "      <th>Vendas</th>\n",
              "      <th>LojaID</th>\n",
              "      <th>Qtde</th>\n",
              "      <th>Receita</th>\n",
              "    </tr>\n",
              "  </thead>\n",
              "  <tbody>\n",
              "    <tr>\n",
              "      <th>0</th>\n",
              "      <td>Aracaju</td>\n",
              "      <td>2018-01-01</td>\n",
              "      <td>142.00</td>\n",
              "      <td>1520</td>\n",
              "      <td>1</td>\n",
              "      <td>142.00</td>\n",
              "    </tr>\n",
              "    <tr>\n",
              "      <th>1</th>\n",
              "      <td>Aracaju</td>\n",
              "      <td>2018-01-01</td>\n",
              "      <td>14.21</td>\n",
              "      <td>1522</td>\n",
              "      <td>6</td>\n",
              "      <td>85.26</td>\n",
              "    </tr>\n",
              "    <tr>\n",
              "      <th>2</th>\n",
              "      <td>Aracaju</td>\n",
              "      <td>2018-01-01</td>\n",
              "      <td>71.55</td>\n",
              "      <td>1520</td>\n",
              "      <td>1</td>\n",
              "      <td>71.55</td>\n",
              "    </tr>\n",
              "    <tr>\n",
              "      <th>3</th>\n",
              "      <td>Aracaju</td>\n",
              "      <td>2018-01-01</td>\n",
              "      <td>3.01</td>\n",
              "      <td>1521</td>\n",
              "      <td>7</td>\n",
              "      <td>21.07</td>\n",
              "    </tr>\n",
              "    <tr>\n",
              "      <th>4</th>\n",
              "      <td>Aracaju</td>\n",
              "      <td>2018-01-01</td>\n",
              "      <td>24.51</td>\n",
              "      <td>1522</td>\n",
              "      <td>8</td>\n",
              "      <td>196.08</td>\n",
              "    </tr>\n",
              "  </tbody>\n",
              "</table>\n",
              "</div>\n",
              "      <button class=\"colab-df-convert\" onclick=\"convertToInteractive('df-42195400-464c-4092-bb1b-255423b87c5e')\"\n",
              "              title=\"Convert this dataframe to an interactive table.\"\n",
              "              style=\"display:none;\">\n",
              "        \n",
              "  <svg xmlns=\"http://www.w3.org/2000/svg\" height=\"24px\"viewBox=\"0 0 24 24\"\n",
              "       width=\"24px\">\n",
              "    <path d=\"M0 0h24v24H0V0z\" fill=\"none\"/>\n",
              "    <path d=\"M18.56 5.44l.94 2.06.94-2.06 2.06-.94-2.06-.94-.94-2.06-.94 2.06-2.06.94zm-11 1L8.5 8.5l.94-2.06 2.06-.94-2.06-.94L8.5 2.5l-.94 2.06-2.06.94zm10 10l.94 2.06.94-2.06 2.06-.94-2.06-.94-.94-2.06-.94 2.06-2.06.94z\"/><path d=\"M17.41 7.96l-1.37-1.37c-.4-.4-.92-.59-1.43-.59-.52 0-1.04.2-1.43.59L10.3 9.45l-7.72 7.72c-.78.78-.78 2.05 0 2.83L4 21.41c.39.39.9.59 1.41.59.51 0 1.02-.2 1.41-.59l7.78-7.78 2.81-2.81c.8-.78.8-2.07 0-2.86zM5.41 20L4 18.59l7.72-7.72 1.47 1.35L5.41 20z\"/>\n",
              "  </svg>\n",
              "      </button>\n",
              "      \n",
              "  <style>\n",
              "    .colab-df-container {\n",
              "      display:flex;\n",
              "      flex-wrap:wrap;\n",
              "      gap: 12px;\n",
              "    }\n",
              "\n",
              "    .colab-df-convert {\n",
              "      background-color: #E8F0FE;\n",
              "      border: none;\n",
              "      border-radius: 50%;\n",
              "      cursor: pointer;\n",
              "      display: none;\n",
              "      fill: #1967D2;\n",
              "      height: 32px;\n",
              "      padding: 0 0 0 0;\n",
              "      width: 32px;\n",
              "    }\n",
              "\n",
              "    .colab-df-convert:hover {\n",
              "      background-color: #E2EBFA;\n",
              "      box-shadow: 0px 1px 2px rgba(60, 64, 67, 0.3), 0px 1px 3px 1px rgba(60, 64, 67, 0.15);\n",
              "      fill: #174EA6;\n",
              "    }\n",
              "\n",
              "    [theme=dark] .colab-df-convert {\n",
              "      background-color: #3B4455;\n",
              "      fill: #D2E3FC;\n",
              "    }\n",
              "\n",
              "    [theme=dark] .colab-df-convert:hover {\n",
              "      background-color: #434B5C;\n",
              "      box-shadow: 0px 1px 3px 1px rgba(0, 0, 0, 0.15);\n",
              "      filter: drop-shadow(0px 1px 2px rgba(0, 0, 0, 0.3));\n",
              "      fill: #FFFFFF;\n",
              "    }\n",
              "  </style>\n",
              "\n",
              "      <script>\n",
              "        const buttonEl =\n",
              "          document.querySelector('#df-42195400-464c-4092-bb1b-255423b87c5e button.colab-df-convert');\n",
              "        buttonEl.style.display =\n",
              "          google.colab.kernel.accessAllowed ? 'block' : 'none';\n",
              "\n",
              "        async function convertToInteractive(key) {\n",
              "          const element = document.querySelector('#df-42195400-464c-4092-bb1b-255423b87c5e');\n",
              "          const dataTable =\n",
              "            await google.colab.kernel.invokeFunction('convertToInteractive',\n",
              "                                                     [key], {});\n",
              "          if (!dataTable) return;\n",
              "\n",
              "          const docLinkHtml = 'Like what you see? Visit the ' +\n",
              "            '<a target=\"_blank\" href=https://colab.research.google.com/notebooks/data_table.ipynb>data table notebook</a>'\n",
              "            + ' to learn more about interactive tables.';\n",
              "          element.innerHTML = '';\n",
              "          dataTable['output_type'] = 'display_data';\n",
              "          await google.colab.output.renderOutput(dataTable, element);\n",
              "          const docLink = document.createElement('div');\n",
              "          docLink.innerHTML = docLinkHtml;\n",
              "          element.appendChild(docLink);\n",
              "        }\n",
              "      </script>\n",
              "    </div>\n",
              "  </div>\n",
              "  "
            ]
          },
          "metadata": {},
          "execution_count": 22
        }
      ]
    },
    {
      "cell_type": "code",
      "source": [
        "# Retornando a maior receita\n",
        "df[\"Receita\"].max()"
      ],
      "metadata": {
        "colab": {
          "base_uri": "https://localhost:8080/"
        },
        "id": "qHA7Zk6_c9ac",
        "outputId": "c065b2ac-0d48-4846-f343-ea7729547765"
      },
      "execution_count": null,
      "outputs": [
        {
          "output_type": "execute_result",
          "data": {
            "text/plain": [
              "3544.0"
            ]
          },
          "metadata": {},
          "execution_count": 23
        }
      ]
    },
    {
      "cell_type": "markdown",
      "source": [
        "> Retornando as linhas com as 10 maiores receitas\n"
      ],
      "metadata": {
        "id": "VcuaxRl2gWat"
      }
    },
    {
      "cell_type": "code",
      "source": [
        "df[\"Receita\"].sort_values( ascending=False) # // Aqui organizamos por valores a coluna da receita, de forma decrescente(ascending = False)."
      ],
      "metadata": {
        "colab": {
          "base_uri": "https://localhost:8080/"
        },
        "id": "RrKYiWrxeaR0",
        "outputId": "d086df97-1835-4e5a-9c15-766653fa5a4f"
      },
      "execution_count": null,
      "outputs": [
        {
          "output_type": "execute_result",
          "data": {
            "text/plain": [
              "7      3544.00\n",
              "55     3436.00\n",
              "51     3436.00\n",
              "30     3424.00\n",
              "41     3340.00\n",
              "        ...   \n",
              "95        5.13\n",
              "92        4.57\n",
              "92        4.57\n",
              "65        4.01\n",
              "118       3.34\n",
              "Name: Receita, Length: 894, dtype: float64"
            ]
          },
          "metadata": {},
          "execution_count": 24
        }
      ]
    },
    {
      "cell_type": "code",
      "source": [
        "df[\"Receita\"].sort_values( ascending=False).head(10) # Passando o head podemos pegar os 10 primeiros maiores valores"
      ],
      "metadata": {
        "colab": {
          "base_uri": "https://localhost:8080/"
        },
        "id": "ejh_-aSpgOOl",
        "outputId": "173fa10d-e654-4af1-cc97-fbe49c01a039"
      },
      "execution_count": null,
      "outputs": [
        {
          "output_type": "execute_result",
          "data": {
            "text/plain": [
              "7     3544.0\n",
              "55    3436.0\n",
              "51    3436.0\n",
              "30    3424.0\n",
              "41    3340.0\n",
              "38    3312.0\n",
              "10    3312.0\n",
              "69    3268.0\n",
              "62    3172.0\n",
              "52    3112.0\n",
              "Name: Receita, dtype: float64"
            ]
          },
          "metadata": {},
          "execution_count": 25
        }
      ]
    },
    {
      "cell_type": "code",
      "source": [
        "# Vamos guardar em uma variável para que possamos passar como filtro. Retornando assim as linhas completas com as 10 maiores receitas\n",
        "receitasMax10 = df[\"Receita\"].sort_values( ascending=False).head(10)"
      ],
      "metadata": {
        "id": "jWxwcbm8e89t"
      },
      "execution_count": null,
      "outputs": []
    },
    {
      "cell_type": "code",
      "source": [
        "receitasMax10.values"
      ],
      "metadata": {
        "colab": {
          "base_uri": "https://localhost:8080/"
        },
        "id": "T0OR5-vbhdGc",
        "outputId": "c6e764a2-6845-4dd6-8d90-cf2780f2dee7"
      },
      "execution_count": null,
      "outputs": [
        {
          "output_type": "execute_result",
          "data": {
            "text/plain": [
              "array([3544., 3436., 3436., 3424., 3340., 3312., 3312., 3268., 3172.,\n",
              "       3112.])"
            ]
          },
          "metadata": {},
          "execution_count": 27
        }
      ]
    },
    {
      "cell_type": "code",
      "source": [
        "# Retornando as linhas com as 10 maiores receitas\n",
        "# df[(df[\"Receita\"] == receitasMax10.values)]"
      ],
      "metadata": {
        "id": "_Vsd8SJodSq8"
      },
      "execution_count": null,
      "outputs": []
    },
    {
      "cell_type": "markdown",
      "source": [
        "Aqui eu tentei de maneira falha utilizar um método para filtrar, porém mais à frente na aula eu descubro os seguintes métodos."
      ],
      "metadata": {
        "id": "TRoH6VGGlFdt"
      }
    },
    {
      "cell_type": "code",
      "source": [
        "#nlargest ======> Retorna as maiores receitas com parâmetro escolhendo quantas vão ser retornadas.\n",
        "df.nlargest(10, \"Receita\") # //E ae está as 10 maiores receitas e seus respectivos dados no DF"
      ],
      "metadata": {
        "colab": {
          "base_uri": "https://localhost:8080/",
          "height": 363
        },
        "id": "EUn29oMbi3Zt",
        "outputId": "dfa3729b-7d95-4ed7-8f72-5f11da6028cf"
      },
      "execution_count": null,
      "outputs": [
        {
          "output_type": "execute_result",
          "data": {
            "text/plain": [
              "   Cidade       Data  Vendas LojaID  Qtde  Receita\n",
              "7   Natal 2019-03-18   886.0    853     4   3544.0\n",
              "51  Natal 2018-01-21   859.0    852     4   3436.0\n",
              "55  Natal 2019-01-08   859.0    854     4   3436.0\n",
              "30  Natal 2018-10-02   856.0    853     4   3424.0\n",
              "41  Natal 2018-05-20   835.0    852     4   3340.0\n",
              "10  Natal 2018-10-27   828.0    852     4   3312.0\n",
              "38  Natal 2018-02-25   828.0    852     4   3312.0\n",
              "69  Natal 2019-03-24   817.0    852     4   3268.0\n",
              "62  Natal 2018-02-10   793.0    854     4   3172.0\n",
              "52  Natal 2018-04-27   778.0    854     4   3112.0"
            ],
            "text/html": [
              "\n",
              "  <div id=\"df-40c31cb7-60cf-4b05-b328-edfc178d515e\">\n",
              "    <div class=\"colab-df-container\">\n",
              "      <div>\n",
              "<style scoped>\n",
              "    .dataframe tbody tr th:only-of-type {\n",
              "        vertical-align: middle;\n",
              "    }\n",
              "\n",
              "    .dataframe tbody tr th {\n",
              "        vertical-align: top;\n",
              "    }\n",
              "\n",
              "    .dataframe thead th {\n",
              "        text-align: right;\n",
              "    }\n",
              "</style>\n",
              "<table border=\"1\" class=\"dataframe\">\n",
              "  <thead>\n",
              "    <tr style=\"text-align: right;\">\n",
              "      <th></th>\n",
              "      <th>Cidade</th>\n",
              "      <th>Data</th>\n",
              "      <th>Vendas</th>\n",
              "      <th>LojaID</th>\n",
              "      <th>Qtde</th>\n",
              "      <th>Receita</th>\n",
              "    </tr>\n",
              "  </thead>\n",
              "  <tbody>\n",
              "    <tr>\n",
              "      <th>7</th>\n",
              "      <td>Natal</td>\n",
              "      <td>2019-03-18</td>\n",
              "      <td>886.0</td>\n",
              "      <td>853</td>\n",
              "      <td>4</td>\n",
              "      <td>3544.0</td>\n",
              "    </tr>\n",
              "    <tr>\n",
              "      <th>51</th>\n",
              "      <td>Natal</td>\n",
              "      <td>2018-01-21</td>\n",
              "      <td>859.0</td>\n",
              "      <td>852</td>\n",
              "      <td>4</td>\n",
              "      <td>3436.0</td>\n",
              "    </tr>\n",
              "    <tr>\n",
              "      <th>55</th>\n",
              "      <td>Natal</td>\n",
              "      <td>2019-01-08</td>\n",
              "      <td>859.0</td>\n",
              "      <td>854</td>\n",
              "      <td>4</td>\n",
              "      <td>3436.0</td>\n",
              "    </tr>\n",
              "    <tr>\n",
              "      <th>30</th>\n",
              "      <td>Natal</td>\n",
              "      <td>2018-10-02</td>\n",
              "      <td>856.0</td>\n",
              "      <td>853</td>\n",
              "      <td>4</td>\n",
              "      <td>3424.0</td>\n",
              "    </tr>\n",
              "    <tr>\n",
              "      <th>41</th>\n",
              "      <td>Natal</td>\n",
              "      <td>2018-05-20</td>\n",
              "      <td>835.0</td>\n",
              "      <td>852</td>\n",
              "      <td>4</td>\n",
              "      <td>3340.0</td>\n",
              "    </tr>\n",
              "    <tr>\n",
              "      <th>10</th>\n",
              "      <td>Natal</td>\n",
              "      <td>2018-10-27</td>\n",
              "      <td>828.0</td>\n",
              "      <td>852</td>\n",
              "      <td>4</td>\n",
              "      <td>3312.0</td>\n",
              "    </tr>\n",
              "    <tr>\n",
              "      <th>38</th>\n",
              "      <td>Natal</td>\n",
              "      <td>2018-02-25</td>\n",
              "      <td>828.0</td>\n",
              "      <td>852</td>\n",
              "      <td>4</td>\n",
              "      <td>3312.0</td>\n",
              "    </tr>\n",
              "    <tr>\n",
              "      <th>69</th>\n",
              "      <td>Natal</td>\n",
              "      <td>2019-03-24</td>\n",
              "      <td>817.0</td>\n",
              "      <td>852</td>\n",
              "      <td>4</td>\n",
              "      <td>3268.0</td>\n",
              "    </tr>\n",
              "    <tr>\n",
              "      <th>62</th>\n",
              "      <td>Natal</td>\n",
              "      <td>2018-02-10</td>\n",
              "      <td>793.0</td>\n",
              "      <td>854</td>\n",
              "      <td>4</td>\n",
              "      <td>3172.0</td>\n",
              "    </tr>\n",
              "    <tr>\n",
              "      <th>52</th>\n",
              "      <td>Natal</td>\n",
              "      <td>2018-04-27</td>\n",
              "      <td>778.0</td>\n",
              "      <td>854</td>\n",
              "      <td>4</td>\n",
              "      <td>3112.0</td>\n",
              "    </tr>\n",
              "  </tbody>\n",
              "</table>\n",
              "</div>\n",
              "      <button class=\"colab-df-convert\" onclick=\"convertToInteractive('df-40c31cb7-60cf-4b05-b328-edfc178d515e')\"\n",
              "              title=\"Convert this dataframe to an interactive table.\"\n",
              "              style=\"display:none;\">\n",
              "        \n",
              "  <svg xmlns=\"http://www.w3.org/2000/svg\" height=\"24px\"viewBox=\"0 0 24 24\"\n",
              "       width=\"24px\">\n",
              "    <path d=\"M0 0h24v24H0V0z\" fill=\"none\"/>\n",
              "    <path d=\"M18.56 5.44l.94 2.06.94-2.06 2.06-.94-2.06-.94-.94-2.06-.94 2.06-2.06.94zm-11 1L8.5 8.5l.94-2.06 2.06-.94-2.06-.94L8.5 2.5l-.94 2.06-2.06.94zm10 10l.94 2.06.94-2.06 2.06-.94-2.06-.94-.94-2.06-.94 2.06-2.06.94z\"/><path d=\"M17.41 7.96l-1.37-1.37c-.4-.4-.92-.59-1.43-.59-.52 0-1.04.2-1.43.59L10.3 9.45l-7.72 7.72c-.78.78-.78 2.05 0 2.83L4 21.41c.39.39.9.59 1.41.59.51 0 1.02-.2 1.41-.59l7.78-7.78 2.81-2.81c.8-.78.8-2.07 0-2.86zM5.41 20L4 18.59l7.72-7.72 1.47 1.35L5.41 20z\"/>\n",
              "  </svg>\n",
              "      </button>\n",
              "      \n",
              "  <style>\n",
              "    .colab-df-container {\n",
              "      display:flex;\n",
              "      flex-wrap:wrap;\n",
              "      gap: 12px;\n",
              "    }\n",
              "\n",
              "    .colab-df-convert {\n",
              "      background-color: #E8F0FE;\n",
              "      border: none;\n",
              "      border-radius: 50%;\n",
              "      cursor: pointer;\n",
              "      display: none;\n",
              "      fill: #1967D2;\n",
              "      height: 32px;\n",
              "      padding: 0 0 0 0;\n",
              "      width: 32px;\n",
              "    }\n",
              "\n",
              "    .colab-df-convert:hover {\n",
              "      background-color: #E2EBFA;\n",
              "      box-shadow: 0px 1px 2px rgba(60, 64, 67, 0.3), 0px 1px 3px 1px rgba(60, 64, 67, 0.15);\n",
              "      fill: #174EA6;\n",
              "    }\n",
              "\n",
              "    [theme=dark] .colab-df-convert {\n",
              "      background-color: #3B4455;\n",
              "      fill: #D2E3FC;\n",
              "    }\n",
              "\n",
              "    [theme=dark] .colab-df-convert:hover {\n",
              "      background-color: #434B5C;\n",
              "      box-shadow: 0px 1px 3px 1px rgba(0, 0, 0, 0.15);\n",
              "      filter: drop-shadow(0px 1px 2px rgba(0, 0, 0, 0.3));\n",
              "      fill: #FFFFFF;\n",
              "    }\n",
              "  </style>\n",
              "\n",
              "      <script>\n",
              "        const buttonEl =\n",
              "          document.querySelector('#df-40c31cb7-60cf-4b05-b328-edfc178d515e button.colab-df-convert');\n",
              "        buttonEl.style.display =\n",
              "          google.colab.kernel.accessAllowed ? 'block' : 'none';\n",
              "\n",
              "        async function convertToInteractive(key) {\n",
              "          const element = document.querySelector('#df-40c31cb7-60cf-4b05-b328-edfc178d515e');\n",
              "          const dataTable =\n",
              "            await google.colab.kernel.invokeFunction('convertToInteractive',\n",
              "                                                     [key], {});\n",
              "          if (!dataTable) return;\n",
              "\n",
              "          const docLinkHtml = 'Like what you see? Visit the ' +\n",
              "            '<a target=\"_blank\" href=https://colab.research.google.com/notebooks/data_table.ipynb>data table notebook</a>'\n",
              "            + ' to learn more about interactive tables.';\n",
              "          element.innerHTML = '';\n",
              "          dataTable['output_type'] = 'display_data';\n",
              "          await google.colab.output.renderOutput(dataTable, element);\n",
              "          const docLink = document.createElement('div');\n",
              "          docLink.innerHTML = docLinkHtml;\n",
              "          element.appendChild(docLink);\n",
              "        }\n",
              "      </script>\n",
              "    </div>\n",
              "  </div>\n",
              "  "
            ]
          },
          "metadata": {},
          "execution_count": 29
        }
      ]
    },
    {
      "cell_type": "markdown",
      "source": [
        "Aqui já podemos notar uma tendência de Natal ter as lojas e vendas mais caras, comparado as outras cidades."
      ],
      "metadata": {
        "id": "edgbriDplzvF"
      }
    },
    {
      "cell_type": "code",
      "source": [
        "#nsmallest\n",
        "df.nsmallest(3, \"Receita\")"
      ],
      "metadata": {
        "colab": {
          "base_uri": "https://localhost:8080/",
          "height": 143
        },
        "id": "zYsdadrGlsKd",
        "outputId": "ac67f4cc-b007-436f-efe9-855bf247636f"
      },
      "execution_count": null,
      "outputs": [
        {
          "output_type": "execute_result",
          "data": {
            "text/plain": [
              "      Cidade       Data  Vendas LojaID  Qtde  Receita\n",
              "118  Aracaju 2018-01-01    3.34   1522     1     3.34\n",
              "65    Recife 2019-01-01    4.01    981     1     4.01\n",
              "92     Natal 2019-01-02    4.57   1035     1     4.57"
            ],
            "text/html": [
              "\n",
              "  <div id=\"df-9b5b42a5-585c-4253-a6d0-cfb4a873ef49\">\n",
              "    <div class=\"colab-df-container\">\n",
              "      <div>\n",
              "<style scoped>\n",
              "    .dataframe tbody tr th:only-of-type {\n",
              "        vertical-align: middle;\n",
              "    }\n",
              "\n",
              "    .dataframe tbody tr th {\n",
              "        vertical-align: top;\n",
              "    }\n",
              "\n",
              "    .dataframe thead th {\n",
              "        text-align: right;\n",
              "    }\n",
              "</style>\n",
              "<table border=\"1\" class=\"dataframe\">\n",
              "  <thead>\n",
              "    <tr style=\"text-align: right;\">\n",
              "      <th></th>\n",
              "      <th>Cidade</th>\n",
              "      <th>Data</th>\n",
              "      <th>Vendas</th>\n",
              "      <th>LojaID</th>\n",
              "      <th>Qtde</th>\n",
              "      <th>Receita</th>\n",
              "    </tr>\n",
              "  </thead>\n",
              "  <tbody>\n",
              "    <tr>\n",
              "      <th>118</th>\n",
              "      <td>Aracaju</td>\n",
              "      <td>2018-01-01</td>\n",
              "      <td>3.34</td>\n",
              "      <td>1522</td>\n",
              "      <td>1</td>\n",
              "      <td>3.34</td>\n",
              "    </tr>\n",
              "    <tr>\n",
              "      <th>65</th>\n",
              "      <td>Recife</td>\n",
              "      <td>2019-01-01</td>\n",
              "      <td>4.01</td>\n",
              "      <td>981</td>\n",
              "      <td>1</td>\n",
              "      <td>4.01</td>\n",
              "    </tr>\n",
              "    <tr>\n",
              "      <th>92</th>\n",
              "      <td>Natal</td>\n",
              "      <td>2019-01-02</td>\n",
              "      <td>4.57</td>\n",
              "      <td>1035</td>\n",
              "      <td>1</td>\n",
              "      <td>4.57</td>\n",
              "    </tr>\n",
              "  </tbody>\n",
              "</table>\n",
              "</div>\n",
              "      <button class=\"colab-df-convert\" onclick=\"convertToInteractive('df-9b5b42a5-585c-4253-a6d0-cfb4a873ef49')\"\n",
              "              title=\"Convert this dataframe to an interactive table.\"\n",
              "              style=\"display:none;\">\n",
              "        \n",
              "  <svg xmlns=\"http://www.w3.org/2000/svg\" height=\"24px\"viewBox=\"0 0 24 24\"\n",
              "       width=\"24px\">\n",
              "    <path d=\"M0 0h24v24H0V0z\" fill=\"none\"/>\n",
              "    <path d=\"M18.56 5.44l.94 2.06.94-2.06 2.06-.94-2.06-.94-.94-2.06-.94 2.06-2.06.94zm-11 1L8.5 8.5l.94-2.06 2.06-.94-2.06-.94L8.5 2.5l-.94 2.06-2.06.94zm10 10l.94 2.06.94-2.06 2.06-.94-2.06-.94-.94-2.06-.94 2.06-2.06.94z\"/><path d=\"M17.41 7.96l-1.37-1.37c-.4-.4-.92-.59-1.43-.59-.52 0-1.04.2-1.43.59L10.3 9.45l-7.72 7.72c-.78.78-.78 2.05 0 2.83L4 21.41c.39.39.9.59 1.41.59.51 0 1.02-.2 1.41-.59l7.78-7.78 2.81-2.81c.8-.78.8-2.07 0-2.86zM5.41 20L4 18.59l7.72-7.72 1.47 1.35L5.41 20z\"/>\n",
              "  </svg>\n",
              "      </button>\n",
              "      \n",
              "  <style>\n",
              "    .colab-df-container {\n",
              "      display:flex;\n",
              "      flex-wrap:wrap;\n",
              "      gap: 12px;\n",
              "    }\n",
              "\n",
              "    .colab-df-convert {\n",
              "      background-color: #E8F0FE;\n",
              "      border: none;\n",
              "      border-radius: 50%;\n",
              "      cursor: pointer;\n",
              "      display: none;\n",
              "      fill: #1967D2;\n",
              "      height: 32px;\n",
              "      padding: 0 0 0 0;\n",
              "      width: 32px;\n",
              "    }\n",
              "\n",
              "    .colab-df-convert:hover {\n",
              "      background-color: #E2EBFA;\n",
              "      box-shadow: 0px 1px 2px rgba(60, 64, 67, 0.3), 0px 1px 3px 1px rgba(60, 64, 67, 0.15);\n",
              "      fill: #174EA6;\n",
              "    }\n",
              "\n",
              "    [theme=dark] .colab-df-convert {\n",
              "      background-color: #3B4455;\n",
              "      fill: #D2E3FC;\n",
              "    }\n",
              "\n",
              "    [theme=dark] .colab-df-convert:hover {\n",
              "      background-color: #434B5C;\n",
              "      box-shadow: 0px 1px 3px 1px rgba(0, 0, 0, 0.15);\n",
              "      filter: drop-shadow(0px 1px 2px rgba(0, 0, 0, 0.3));\n",
              "      fill: #FFFFFF;\n",
              "    }\n",
              "  </style>\n",
              "\n",
              "      <script>\n",
              "        const buttonEl =\n",
              "          document.querySelector('#df-9b5b42a5-585c-4253-a6d0-cfb4a873ef49 button.colab-df-convert');\n",
              "        buttonEl.style.display =\n",
              "          google.colab.kernel.accessAllowed ? 'block' : 'none';\n",
              "\n",
              "        async function convertToInteractive(key) {\n",
              "          const element = document.querySelector('#df-9b5b42a5-585c-4253-a6d0-cfb4a873ef49');\n",
              "          const dataTable =\n",
              "            await google.colab.kernel.invokeFunction('convertToInteractive',\n",
              "                                                     [key], {});\n",
              "          if (!dataTable) return;\n",
              "\n",
              "          const docLinkHtml = 'Like what you see? Visit the ' +\n",
              "            '<a target=\"_blank\" href=https://colab.research.google.com/notebooks/data_table.ipynb>data table notebook</a>'\n",
              "            + ' to learn more about interactive tables.';\n",
              "          element.innerHTML = '';\n",
              "          dataTable['output_type'] = 'display_data';\n",
              "          await google.colab.output.renderOutput(dataTable, element);\n",
              "          const docLink = document.createElement('div');\n",
              "          docLink.innerHTML = docLinkHtml;\n",
              "          element.appendChild(docLink);\n",
              "        }\n",
              "      </script>\n",
              "    </div>\n",
              "  </div>\n",
              "  "
            ]
          },
          "metadata": {},
          "execution_count": 30
        }
      ]
    },
    {
      "cell_type": "code",
      "source": [
        "# Agrupando a receita por cidades\n",
        "df.groupby(\"Cidade\")[\"Receita\"].sum()"
      ],
      "metadata": {
        "colab": {
          "base_uri": "https://localhost:8080/"
        },
        "id": "GJF03R2lmIcm",
        "outputId": "df7577e6-1e1d-4de7-f0ab-78422a749c8b"
      },
      "execution_count": null,
      "outputs": [
        {
          "output_type": "execute_result",
          "data": {
            "text/plain": [
              "Cidade\n",
              "Aracaju       48748.25\n",
              "Fortaleza     37913.97\n",
              "Natal        167227.52\n",
              "Recife        51936.51\n",
              "Salvador      40596.73\n",
              "Name: Receita, dtype: float64"
            ]
          },
          "metadata": {},
          "execution_count": 31
        }
      ]
    },
    {
      "cell_type": "markdown",
      "source": [
        "------------------------------------------------------------------------------------------------------------------------------------------------------------------"
      ],
      "metadata": {
        "id": "ZmHXL4eVqwTo"
      }
    },
    {
      "cell_type": "markdown",
      "source": [
        "# Aula 5"
      ],
      "metadata": {
        "id": "DvAkNfCTqcnp"
      }
    },
    {
      "cell_type": "markdown",
      "source": [
        "## Trabalhando com Datas"
      ],
      "metadata": {
        "id": "yJDZoCUhgYau"
      }
    },
    {
      "cell_type": "code",
      "source": [
        "# Transformando a coluna de data em tipo inteiro   # // Vamos transformar para que simule uma situação em que os tipos das colunas venham errados.]\n",
        "df[\"Data\"] = df[\"Data\"].astype(\"Int64\")"
      ],
      "metadata": {
        "colab": {
          "base_uri": "https://localhost:8080/"
        },
        "id": "BpA6PH4egadm",
        "outputId": "d3bf007e-3eb1-4da8-889b-c77aad548bd5"
      },
      "execution_count": null,
      "outputs": [
        {
          "output_type": "stream",
          "name": "stderr",
          "text": [
            "/usr/local/lib/python3.7/dist-packages/ipykernel_launcher.py:2: FutureWarning: casting datetime64[ns] values to int64 with .astype(...) is deprecated and will raise in a future version. Use .view(...) instead.\n",
            "  \n"
          ]
        }
      ]
    },
    {
      "cell_type": "code",
      "source": [
        "# Verificando...\n",
        "df.dtypes"
      ],
      "metadata": {
        "id": "5Ltek-OQmnAO",
        "colab": {
          "base_uri": "https://localhost:8080/"
        },
        "outputId": "be41ed0e-4c7d-4192-f6d2-2887f8b9a54e"
      },
      "execution_count": null,
      "outputs": [
        {
          "output_type": "execute_result",
          "data": {
            "text/plain": [
              "Cidade      object\n",
              "Data         int64\n",
              "Vendas     float64\n",
              "LojaID      object\n",
              "Qtde         int64\n",
              "Receita    float64\n",
              "dtype: object"
            ]
          },
          "metadata": {},
          "execution_count": 33
        }
      ]
    },
    {
      "cell_type": "code",
      "source": [
        "# Transformando coluna de data em data\n",
        "df[\"Data\"] = pd.to_datetime(df[\"Data\"])"
      ],
      "metadata": {
        "id": "4KWovykEhy7G"
      },
      "execution_count": null,
      "outputs": []
    },
    {
      "cell_type": "code",
      "source": [
        "df.dtypes"
      ],
      "metadata": {
        "colab": {
          "base_uri": "https://localhost:8080/"
        },
        "id": "Kw5qvZMHiCfl",
        "outputId": "009c7707-3f07-4ebf-ea10-3ad2487e1a11"
      },
      "execution_count": null,
      "outputs": [
        {
          "output_type": "execute_result",
          "data": {
            "text/plain": [
              "Cidade             object\n",
              "Data       datetime64[ns]\n",
              "Vendas            float64\n",
              "LojaID             object\n",
              "Qtde                int64\n",
              "Receita           float64\n",
              "dtype: object"
            ]
          },
          "metadata": {},
          "execution_count": 35
        }
      ]
    },
    {
      "cell_type": "code",
      "source": [
        "# Agrupamento por ano\n",
        "df.groupby(df[\"Data\"].dt.year)[\"Receita\"].sum()"
      ],
      "metadata": {
        "colab": {
          "base_uri": "https://localhost:8080/"
        },
        "id": "SmqH61RZiD3V",
        "outputId": "d731ce00-2c08-4f59-9093-84ee902a2603"
      },
      "execution_count": null,
      "outputs": [
        {
          "output_type": "execute_result",
          "data": {
            "text/plain": [
              "Data\n",
              "2018    118176.53\n",
              "2019    228246.45\n",
              "Name: Receita, dtype: float64"
            ]
          },
          "metadata": {},
          "execution_count": 36
        }
      ]
    },
    {
      "cell_type": "markdown",
      "source": [
        "Observe que a receita está aumentando com o passar dos anos."
      ],
      "metadata": {
        "id": "kzRqB95miisu"
      }
    },
    {
      "cell_type": "code",
      "source": [
        "# Criando uma nova coluna com ano\n",
        "df[\"Ano_Venda\"] = df[\"Data\"].dt.year # // dt.year extraí a informação do ano da coluna de datas."
      ],
      "metadata": {
        "id": "bhvAKERyip8O"
      },
      "execution_count": null,
      "outputs": []
    },
    {
      "cell_type": "code",
      "source": [
        "df.sample(5) # // Aqui vemos o resultado, pegando 5 linhas de amostragem."
      ],
      "metadata": {
        "colab": {
          "base_uri": "https://localhost:8080/",
          "height": 206
        },
        "id": "NiHc1QoAi_5G",
        "outputId": "ec436c2e-4cbb-4ba6-def8-c17b5e6c90f0"
      },
      "execution_count": null,
      "outputs": [
        {
          "output_type": "execute_result",
          "data": {
            "text/plain": [
              "      Cidade       Data  Vendas LojaID  Qtde  Receita  Ano_Venda\n",
              "46     Natal 2019-03-26  753.00    853     2  1506.00       2019\n",
              "218    Natal 2019-01-02  189.12   1036     3   567.36       2019\n",
              "23   Aracaju 2018-01-01  237.50   1523     7  1662.50       2018\n",
              "122   Recife 2019-03-02  235.06    983     3   705.18       2019\n",
              "33   Aracaju 2018-01-01   35.09   1523     4   140.36       2018"
            ],
            "text/html": [
              "\n",
              "  <div id=\"df-30414877-9a0c-4c69-b46c-e4eb801c4101\">\n",
              "    <div class=\"colab-df-container\">\n",
              "      <div>\n",
              "<style scoped>\n",
              "    .dataframe tbody tr th:only-of-type {\n",
              "        vertical-align: middle;\n",
              "    }\n",
              "\n",
              "    .dataframe tbody tr th {\n",
              "        vertical-align: top;\n",
              "    }\n",
              "\n",
              "    .dataframe thead th {\n",
              "        text-align: right;\n",
              "    }\n",
              "</style>\n",
              "<table border=\"1\" class=\"dataframe\">\n",
              "  <thead>\n",
              "    <tr style=\"text-align: right;\">\n",
              "      <th></th>\n",
              "      <th>Cidade</th>\n",
              "      <th>Data</th>\n",
              "      <th>Vendas</th>\n",
              "      <th>LojaID</th>\n",
              "      <th>Qtde</th>\n",
              "      <th>Receita</th>\n",
              "      <th>Ano_Venda</th>\n",
              "    </tr>\n",
              "  </thead>\n",
              "  <tbody>\n",
              "    <tr>\n",
              "      <th>46</th>\n",
              "      <td>Natal</td>\n",
              "      <td>2019-03-26</td>\n",
              "      <td>753.00</td>\n",
              "      <td>853</td>\n",
              "      <td>2</td>\n",
              "      <td>1506.00</td>\n",
              "      <td>2019</td>\n",
              "    </tr>\n",
              "    <tr>\n",
              "      <th>218</th>\n",
              "      <td>Natal</td>\n",
              "      <td>2019-01-02</td>\n",
              "      <td>189.12</td>\n",
              "      <td>1036</td>\n",
              "      <td>3</td>\n",
              "      <td>567.36</td>\n",
              "      <td>2019</td>\n",
              "    </tr>\n",
              "    <tr>\n",
              "      <th>23</th>\n",
              "      <td>Aracaju</td>\n",
              "      <td>2018-01-01</td>\n",
              "      <td>237.50</td>\n",
              "      <td>1523</td>\n",
              "      <td>7</td>\n",
              "      <td>1662.50</td>\n",
              "      <td>2018</td>\n",
              "    </tr>\n",
              "    <tr>\n",
              "      <th>122</th>\n",
              "      <td>Recife</td>\n",
              "      <td>2019-03-02</td>\n",
              "      <td>235.06</td>\n",
              "      <td>983</td>\n",
              "      <td>3</td>\n",
              "      <td>705.18</td>\n",
              "      <td>2019</td>\n",
              "    </tr>\n",
              "    <tr>\n",
              "      <th>33</th>\n",
              "      <td>Aracaju</td>\n",
              "      <td>2018-01-01</td>\n",
              "      <td>35.09</td>\n",
              "      <td>1523</td>\n",
              "      <td>4</td>\n",
              "      <td>140.36</td>\n",
              "      <td>2018</td>\n",
              "    </tr>\n",
              "  </tbody>\n",
              "</table>\n",
              "</div>\n",
              "      <button class=\"colab-df-convert\" onclick=\"convertToInteractive('df-30414877-9a0c-4c69-b46c-e4eb801c4101')\"\n",
              "              title=\"Convert this dataframe to an interactive table.\"\n",
              "              style=\"display:none;\">\n",
              "        \n",
              "  <svg xmlns=\"http://www.w3.org/2000/svg\" height=\"24px\"viewBox=\"0 0 24 24\"\n",
              "       width=\"24px\">\n",
              "    <path d=\"M0 0h24v24H0V0z\" fill=\"none\"/>\n",
              "    <path d=\"M18.56 5.44l.94 2.06.94-2.06 2.06-.94-2.06-.94-.94-2.06-.94 2.06-2.06.94zm-11 1L8.5 8.5l.94-2.06 2.06-.94-2.06-.94L8.5 2.5l-.94 2.06-2.06.94zm10 10l.94 2.06.94-2.06 2.06-.94-2.06-.94-.94-2.06-.94 2.06-2.06.94z\"/><path d=\"M17.41 7.96l-1.37-1.37c-.4-.4-.92-.59-1.43-.59-.52 0-1.04.2-1.43.59L10.3 9.45l-7.72 7.72c-.78.78-.78 2.05 0 2.83L4 21.41c.39.39.9.59 1.41.59.51 0 1.02-.2 1.41-.59l7.78-7.78 2.81-2.81c.8-.78.8-2.07 0-2.86zM5.41 20L4 18.59l7.72-7.72 1.47 1.35L5.41 20z\"/>\n",
              "  </svg>\n",
              "      </button>\n",
              "      \n",
              "  <style>\n",
              "    .colab-df-container {\n",
              "      display:flex;\n",
              "      flex-wrap:wrap;\n",
              "      gap: 12px;\n",
              "    }\n",
              "\n",
              "    .colab-df-convert {\n",
              "      background-color: #E8F0FE;\n",
              "      border: none;\n",
              "      border-radius: 50%;\n",
              "      cursor: pointer;\n",
              "      display: none;\n",
              "      fill: #1967D2;\n",
              "      height: 32px;\n",
              "      padding: 0 0 0 0;\n",
              "      width: 32px;\n",
              "    }\n",
              "\n",
              "    .colab-df-convert:hover {\n",
              "      background-color: #E2EBFA;\n",
              "      box-shadow: 0px 1px 2px rgba(60, 64, 67, 0.3), 0px 1px 3px 1px rgba(60, 64, 67, 0.15);\n",
              "      fill: #174EA6;\n",
              "    }\n",
              "\n",
              "    [theme=dark] .colab-df-convert {\n",
              "      background-color: #3B4455;\n",
              "      fill: #D2E3FC;\n",
              "    }\n",
              "\n",
              "    [theme=dark] .colab-df-convert:hover {\n",
              "      background-color: #434B5C;\n",
              "      box-shadow: 0px 1px 3px 1px rgba(0, 0, 0, 0.15);\n",
              "      filter: drop-shadow(0px 1px 2px rgba(0, 0, 0, 0.3));\n",
              "      fill: #FFFFFF;\n",
              "    }\n",
              "  </style>\n",
              "\n",
              "      <script>\n",
              "        const buttonEl =\n",
              "          document.querySelector('#df-30414877-9a0c-4c69-b46c-e4eb801c4101 button.colab-df-convert');\n",
              "        buttonEl.style.display =\n",
              "          google.colab.kernel.accessAllowed ? 'block' : 'none';\n",
              "\n",
              "        async function convertToInteractive(key) {\n",
              "          const element = document.querySelector('#df-30414877-9a0c-4c69-b46c-e4eb801c4101');\n",
              "          const dataTable =\n",
              "            await google.colab.kernel.invokeFunction('convertToInteractive',\n",
              "                                                     [key], {});\n",
              "          if (!dataTable) return;\n",
              "\n",
              "          const docLinkHtml = 'Like what you see? Visit the ' +\n",
              "            '<a target=\"_blank\" href=https://colab.research.google.com/notebooks/data_table.ipynb>data table notebook</a>'\n",
              "            + ' to learn more about interactive tables.';\n",
              "          element.innerHTML = '';\n",
              "          dataTable['output_type'] = 'display_data';\n",
              "          await google.colab.output.renderOutput(dataTable, element);\n",
              "          const docLink = document.createElement('div');\n",
              "          docLink.innerHTML = docLinkHtml;\n",
              "          element.appendChild(docLink);\n",
              "        }\n",
              "      </script>\n",
              "    </div>\n",
              "  </div>\n",
              "  "
            ]
          },
          "metadata": {},
          "execution_count": 38
        }
      ]
    },
    {
      "cell_type": "markdown",
      "source": [
        "Se você precisar extrair o dia e avenda você pode usar \"dt.day e dt.month\" respectivamente."
      ],
      "metadata": {
        "id": "MPg40bNtjtYO"
      }
    },
    {
      "cell_type": "code",
      "source": [
        "# Retornando a data mais antiga\n",
        "df[\"Data\"].min()  # // Observe que o '.min' também funciona com o tipo date."
      ],
      "metadata": {
        "colab": {
          "base_uri": "https://localhost:8080/"
        },
        "id": "AWeKuTGBj8H-",
        "outputId": "d3051570-e52c-46df-88e4-8533392742a5"
      },
      "execution_count": null,
      "outputs": [
        {
          "output_type": "execute_result",
          "data": {
            "text/plain": [
              "Timestamp('2018-01-01 00:00:00')"
            ]
          },
          "metadata": {},
          "execution_count": 39
        }
      ]
    },
    {
      "cell_type": "code",
      "source": [
        "# Calculando a diferença de dias\n",
        "df[\"difernca_dias\"] = df[\"Data\"] - df[\"Data\"].min() # // Aqui fazemos a substração do data mínima, para representar o dia 0."
      ],
      "metadata": {
        "id": "G715WAgEkA5U"
      },
      "execution_count": null,
      "outputs": []
    },
    {
      "cell_type": "markdown",
      "source": [
        "- Observe que como a  biblioteca do pandas é bem dinâmica se você simplesmente subtrair uma data de outra ela retorna em dias já."
      ],
      "metadata": {
        "id": "rHQxvD3jk6BN"
      }
    },
    {
      "cell_type": "code",
      "source": [
        "df.sample(5)"
      ],
      "metadata": {
        "colab": {
          "base_uri": "https://localhost:8080/",
          "height": 206
        },
        "id": "-MwbSLRgk2IG",
        "outputId": "2c265019-ea5a-42a4-8b29-738419596d0d"
      },
      "execution_count": null,
      "outputs": [
        {
          "output_type": "execute_result",
          "data": {
            "text/plain": [
              "        Cidade       Data  Vendas LojaID  Qtde  Receita  Ano_Venda  \\\n",
              "36   Fortaleza 2019-01-01   36.31   1004     2    72.62       2019   \n",
              "93       Natal 2019-01-02   15.58   1037     1    15.58       2019   \n",
              "21       Natal 2019-02-08  679.00    853     2  1358.00       2019   \n",
              "50      Recife 2019-01-01    7.24    983     4    28.96       2019   \n",
              "136     Recife 2019-03-02   39.09    982     4   156.36       2019   \n",
              "\n",
              "    difernca_dias  \n",
              "36       365 days  \n",
              "93       366 days  \n",
              "21       403 days  \n",
              "50       365 days  \n",
              "136      425 days  "
            ],
            "text/html": [
              "\n",
              "  <div id=\"df-a0f3379b-9d20-4a6c-adcb-b837695e4925\">\n",
              "    <div class=\"colab-df-container\">\n",
              "      <div>\n",
              "<style scoped>\n",
              "    .dataframe tbody tr th:only-of-type {\n",
              "        vertical-align: middle;\n",
              "    }\n",
              "\n",
              "    .dataframe tbody tr th {\n",
              "        vertical-align: top;\n",
              "    }\n",
              "\n",
              "    .dataframe thead th {\n",
              "        text-align: right;\n",
              "    }\n",
              "</style>\n",
              "<table border=\"1\" class=\"dataframe\">\n",
              "  <thead>\n",
              "    <tr style=\"text-align: right;\">\n",
              "      <th></th>\n",
              "      <th>Cidade</th>\n",
              "      <th>Data</th>\n",
              "      <th>Vendas</th>\n",
              "      <th>LojaID</th>\n",
              "      <th>Qtde</th>\n",
              "      <th>Receita</th>\n",
              "      <th>Ano_Venda</th>\n",
              "      <th>difernca_dias</th>\n",
              "    </tr>\n",
              "  </thead>\n",
              "  <tbody>\n",
              "    <tr>\n",
              "      <th>36</th>\n",
              "      <td>Fortaleza</td>\n",
              "      <td>2019-01-01</td>\n",
              "      <td>36.31</td>\n",
              "      <td>1004</td>\n",
              "      <td>2</td>\n",
              "      <td>72.62</td>\n",
              "      <td>2019</td>\n",
              "      <td>365 days</td>\n",
              "    </tr>\n",
              "    <tr>\n",
              "      <th>93</th>\n",
              "      <td>Natal</td>\n",
              "      <td>2019-01-02</td>\n",
              "      <td>15.58</td>\n",
              "      <td>1037</td>\n",
              "      <td>1</td>\n",
              "      <td>15.58</td>\n",
              "      <td>2019</td>\n",
              "      <td>366 days</td>\n",
              "    </tr>\n",
              "    <tr>\n",
              "      <th>21</th>\n",
              "      <td>Natal</td>\n",
              "      <td>2019-02-08</td>\n",
              "      <td>679.00</td>\n",
              "      <td>853</td>\n",
              "      <td>2</td>\n",
              "      <td>1358.00</td>\n",
              "      <td>2019</td>\n",
              "      <td>403 days</td>\n",
              "    </tr>\n",
              "    <tr>\n",
              "      <th>50</th>\n",
              "      <td>Recife</td>\n",
              "      <td>2019-01-01</td>\n",
              "      <td>7.24</td>\n",
              "      <td>983</td>\n",
              "      <td>4</td>\n",
              "      <td>28.96</td>\n",
              "      <td>2019</td>\n",
              "      <td>365 days</td>\n",
              "    </tr>\n",
              "    <tr>\n",
              "      <th>136</th>\n",
              "      <td>Recife</td>\n",
              "      <td>2019-03-02</td>\n",
              "      <td>39.09</td>\n",
              "      <td>982</td>\n",
              "      <td>4</td>\n",
              "      <td>156.36</td>\n",
              "      <td>2019</td>\n",
              "      <td>425 days</td>\n",
              "    </tr>\n",
              "  </tbody>\n",
              "</table>\n",
              "</div>\n",
              "      <button class=\"colab-df-convert\" onclick=\"convertToInteractive('df-a0f3379b-9d20-4a6c-adcb-b837695e4925')\"\n",
              "              title=\"Convert this dataframe to an interactive table.\"\n",
              "              style=\"display:none;\">\n",
              "        \n",
              "  <svg xmlns=\"http://www.w3.org/2000/svg\" height=\"24px\"viewBox=\"0 0 24 24\"\n",
              "       width=\"24px\">\n",
              "    <path d=\"M0 0h24v24H0V0z\" fill=\"none\"/>\n",
              "    <path d=\"M18.56 5.44l.94 2.06.94-2.06 2.06-.94-2.06-.94-.94-2.06-.94 2.06-2.06.94zm-11 1L8.5 8.5l.94-2.06 2.06-.94-2.06-.94L8.5 2.5l-.94 2.06-2.06.94zm10 10l.94 2.06.94-2.06 2.06-.94-2.06-.94-.94-2.06-.94 2.06-2.06.94z\"/><path d=\"M17.41 7.96l-1.37-1.37c-.4-.4-.92-.59-1.43-.59-.52 0-1.04.2-1.43.59L10.3 9.45l-7.72 7.72c-.78.78-.78 2.05 0 2.83L4 21.41c.39.39.9.59 1.41.59.51 0 1.02-.2 1.41-.59l7.78-7.78 2.81-2.81c.8-.78.8-2.07 0-2.86zM5.41 20L4 18.59l7.72-7.72 1.47 1.35L5.41 20z\"/>\n",
              "  </svg>\n",
              "      </button>\n",
              "      \n",
              "  <style>\n",
              "    .colab-df-container {\n",
              "      display:flex;\n",
              "      flex-wrap:wrap;\n",
              "      gap: 12px;\n",
              "    }\n",
              "\n",
              "    .colab-df-convert {\n",
              "      background-color: #E8F0FE;\n",
              "      border: none;\n",
              "      border-radius: 50%;\n",
              "      cursor: pointer;\n",
              "      display: none;\n",
              "      fill: #1967D2;\n",
              "      height: 32px;\n",
              "      padding: 0 0 0 0;\n",
              "      width: 32px;\n",
              "    }\n",
              "\n",
              "    .colab-df-convert:hover {\n",
              "      background-color: #E2EBFA;\n",
              "      box-shadow: 0px 1px 2px rgba(60, 64, 67, 0.3), 0px 1px 3px 1px rgba(60, 64, 67, 0.15);\n",
              "      fill: #174EA6;\n",
              "    }\n",
              "\n",
              "    [theme=dark] .colab-df-convert {\n",
              "      background-color: #3B4455;\n",
              "      fill: #D2E3FC;\n",
              "    }\n",
              "\n",
              "    [theme=dark] .colab-df-convert:hover {\n",
              "      background-color: #434B5C;\n",
              "      box-shadow: 0px 1px 3px 1px rgba(0, 0, 0, 0.15);\n",
              "      filter: drop-shadow(0px 1px 2px rgba(0, 0, 0, 0.3));\n",
              "      fill: #FFFFFF;\n",
              "    }\n",
              "  </style>\n",
              "\n",
              "      <script>\n",
              "        const buttonEl =\n",
              "          document.querySelector('#df-a0f3379b-9d20-4a6c-adcb-b837695e4925 button.colab-df-convert');\n",
              "        buttonEl.style.display =\n",
              "          google.colab.kernel.accessAllowed ? 'block' : 'none';\n",
              "\n",
              "        async function convertToInteractive(key) {\n",
              "          const element = document.querySelector('#df-a0f3379b-9d20-4a6c-adcb-b837695e4925');\n",
              "          const dataTable =\n",
              "            await google.colab.kernel.invokeFunction('convertToInteractive',\n",
              "                                                     [key], {});\n",
              "          if (!dataTable) return;\n",
              "\n",
              "          const docLinkHtml = 'Like what you see? Visit the ' +\n",
              "            '<a target=\"_blank\" href=https://colab.research.google.com/notebooks/data_table.ipynb>data table notebook</a>'\n",
              "            + ' to learn more about interactive tables.';\n",
              "          element.innerHTML = '';\n",
              "          dataTable['output_type'] = 'display_data';\n",
              "          await google.colab.output.renderOutput(dataTable, element);\n",
              "          const docLink = document.createElement('div');\n",
              "          docLink.innerHTML = docLinkHtml;\n",
              "          element.appendChild(docLink);\n",
              "        }\n",
              "      </script>\n",
              "    </div>\n",
              "  </div>\n",
              "  "
            ]
          },
          "metadata": {},
          "execution_count": 41
        }
      ]
    },
    {
      "cell_type": "markdown",
      "source": [
        "------------------------------------------------------------------------------------------------------------------------------------------------------------------"
      ],
      "metadata": {
        "id": "cnOUwllrqrHI"
      }
    },
    {
      "cell_type": "markdown",
      "source": [
        "# Aula 6"
      ],
      "metadata": {
        "id": "Rprk4hKNq075"
      }
    },
    {
      "cell_type": "code",
      "source": [
        "# Mostrando o número de vendas por loja\n",
        "df[\"LojaID\"].value_counts(ascending=False)"
      ],
      "metadata": {
        "id": "o0LXcXZ5k8hN",
        "colab": {
          "base_uri": "https://localhost:8080/"
        },
        "outputId": "92b08ab5-0ead-437b-ce80-64967142f9ff"
      },
      "execution_count": null,
      "outputs": [
        {
          "output_type": "execute_result",
          "data": {
            "text/plain": [
              "1036    117\n",
              "1035    112\n",
              "1037    101\n",
              "1034     67\n",
              "983      65\n",
              "982      44\n",
              "1522     41\n",
              "1520     39\n",
              "980      36\n",
              "981      31\n",
              "1005     30\n",
              "1002     30\n",
              "852      29\n",
              "1523     29\n",
              "1004     28\n",
              "854      28\n",
              "853      26\n",
              "1521     21\n",
              "1003     20\n",
              "Name: LojaID, dtype: int64"
            ]
          },
          "metadata": {},
          "execution_count": 42
        }
      ]
    },
    {
      "cell_type": "code",
      "source": [
        "# Grafico de barras\n",
        "df[\"LojaID\"].value_counts(ascending=False).plot.bar()"
      ],
      "metadata": {
        "id": "_wEEA7IbjBte",
        "colab": {
          "base_uri": "https://localhost:8080/",
          "height": 298
        },
        "outputId": "ac036671-f478-4f4c-8b71-d8d2a11cb279"
      },
      "execution_count": null,
      "outputs": [
        {
          "output_type": "execute_result",
          "data": {
            "text/plain": [
              "<matplotlib.axes._subplots.AxesSubplot at 0x7fb6eb125950>"
            ]
          },
          "metadata": {},
          "execution_count": 43
        },
        {
          "output_type": "display_data",
          "data": {
            "text/plain": [
              "<Figure size 432x288 with 1 Axes>"
            ],
            "image/png": "[encoded data removed]"
          },
          "metadata": {
            "needs_background": "light"
          }
        }
      ]
    },
    {
      "cell_type": "code",
      "source": [
        "# Barras horizontais\n",
        "df[\"LojaID\"].value_counts(ascending=False).plot.barh()"
      ],
      "metadata": {
        "colab": {
          "base_uri": "https://localhost:8080/",
          "height": 282
        },
        "id": "O_6fO6hV3ScR",
        "outputId": "9f457d03-47d0-4c5c-fd82-9d1b555b0c42"
      },
      "execution_count": null,
      "outputs": [
        {
          "output_type": "execute_result",
          "data": {
            "text/plain": [
              "<matplotlib.axes._subplots.AxesSubplot at 0x7fb6ead2e310>"
            ]
          },
          "metadata": {},
          "execution_count": 44
        },
        {
          "output_type": "display_data",
          "data": {
            "text/plain": [
              "<Figure size 432x288 with 1 Axes>"
            ],
            "image/png": "[encoded data removed]"
          },
          "metadata": {
            "needs_background": "light"
          }
        }
      ]
    },
    {
      "cell_type": "code",
      "source": [
        "df[\"LojaID\"].value_counts(ascending=True).plot.barh(); # //Observe que o ponto e vírgula no final esconde a linha matplotlib."
      ],
      "metadata": {
        "colab": {
          "base_uri": "https://localhost:8080/",
          "height": 265
        },
        "id": "K3sGU36x3ctz",
        "outputId": "caaae6e5-ccfa-4353-9487-367c0eab1773"
      },
      "execution_count": null,
      "outputs": [
        {
          "output_type": "display_data",
          "data": {
            "text/plain": [
              "<Figure size 432x288 with 1 Axes>"
            ],
            "image/png": "[encoded data removed]"
          },
          "metadata": {
            "needs_background": "light"
          }
        }
      ]
    },
    {
      "cell_type": "code",
      "source": [
        "# Gráfico de pizza // Mostrando a receita das vendas por ano\n",
        "df.groupby(df[\"Data\"].dt.year)[\"Receita\"].sum().plot.pie()"
      ],
      "metadata": {
        "colab": {
          "base_uri": "https://localhost:8080/",
          "height": 265
        },
        "id": "-14k7-d04Bi7",
        "outputId": "51bffca5-b654-428e-8e42-15bd910f1635"
      },
      "execution_count": null,
      "outputs": [
        {
          "output_type": "execute_result",
          "data": {
            "text/plain": [
              "<matplotlib.axes._subplots.AxesSubplot at 0x7fb6ea7775d0>"
            ]
          },
          "metadata": {},
          "execution_count": 46
        },
        {
          "output_type": "display_data",
          "data": {
            "text/plain": [
              "<Figure size 432x288 with 1 Axes>"
            ],
            "image/png": "[encoded data removed]"
          },
          "metadata": {}
        }
      ]
    },
    {
      "cell_type": "code",
      "source": [
        "# Total vendas por cidade\n",
        "df[\"Cidade\"].value_counts()"
      ],
      "metadata": {
        "colab": {
          "base_uri": "https://localhost:8080/"
        },
        "id": "PSLL17cE4hfL",
        "outputId": "fce6b20a-5f71-48ba-dd46-29b86ab542a4"
      },
      "execution_count": null,
      "outputs": [
        {
          "output_type": "execute_result",
          "data": {
            "text/plain": [
              "Natal        240\n",
              "Salvador     240\n",
              "Fortaleza    142\n",
              "Recife       142\n",
              "Aracaju      130\n",
              "Name: Cidade, dtype: int64"
            ]
          },
          "metadata": {},
          "execution_count": 47
        }
      ]
    },
    {
      "cell_type": "code",
      "source": [
        "# Adicionando um título e alterando o nome dos eixos\n",
        "import matplotlib.pyplot as plt\n",
        "df[\"Cidade\"].value_counts().plot.bar(title=\"Total vendas por Cidade\")\n",
        "plt.xlabel(\"Cidade\")\n",
        "plt.ylabel(\"Total Vendas\");"
      ],
      "metadata": {
        "colab": {
          "base_uri": "https://localhost:8080/",
          "height": 331
        },
        "id": "0v-3_r0Y7Olu",
        "outputId": "fe938dd2-a2fb-44ff-bd83-99dba5af5e01"
      },
      "execution_count": null,
      "outputs": [
        {
          "output_type": "display_data",
          "data": {
            "text/plain": [
              "<Figure size 432x288 with 1 Axes>"
            ],
            "image/png": "[encoded data removed]"
          },
          "metadata": {
            "needs_background": "light"
          }
        }
      ]
    },
    {
      "cell_type": "code",
      "source": [
        "# Alterando a cor\n",
        "df[\"Cidade\"].value_counts().plot.bar(title=\"Total vendas por Cidade\", color=\"red\")\n",
        "plt.xlabel(\"Cidade\")\n",
        "plt.ylabel(\"Total Vendas\");"
      ],
      "metadata": {
        "colab": {
          "base_uri": "https://localhost:8080/",
          "height": 331
        },
        "id": "wGYeW7pr8BBJ",
        "outputId": "04a6aeb2-1848-4770-80b7-4a81f2472642"
      },
      "execution_count": null,
      "outputs": [
        {
          "output_type": "display_data",
          "data": {
            "text/plain": [
              "<Figure size 432x288 with 1 Axes>"
            ],
            "image/png": "[encoded data removed]"
          },
          "metadata": {
            "needs_background": "light"
          }
        }
      ]
    },
    {
      "cell_type": "code",
      "source": [
        "# Alterando o estilo\n",
        "plt.style.use(\"ggplot\")\n",
        "# Criando um tabela com os meses das vendas para plotar o gráfico\n",
        "df[\"mes_venda\"] = df[\"Data\"].dt.month\n",
        "df.sample(5) "
      ],
      "metadata": {
        "id": "xhZCTUkI8YyC",
        "colab": {
          "base_uri": "https://localhost:8080/",
          "height": 206
        },
        "outputId": "7d5998f5-9cdd-4e23-8f51-7ff8ca1d519f"
      },
      "execution_count": null,
      "outputs": [
        {
          "output_type": "execute_result",
          "data": {
            "text/plain": [
              "       Cidade       Data  Vendas LojaID  Qtde  Receita  Ano_Venda  \\\n",
              "116    Recife 2019-03-02   79.10    982     2   158.20       2019   \n",
              "100  Salvador 2019-01-01  190.97   1036     2   381.94       2019   \n",
              "200  Salvador 2019-01-02   41.06   1035     1    41.06       2019   \n",
              "107    Recife 2019-01-01   15.40    980     7   107.80       2019   \n",
              "90    Aracaju 2018-01-01   16.27   1522     1    16.27       2018   \n",
              "\n",
              "    difernca_dias  mes_venda  \n",
              "116      425 days          3  \n",
              "100      365 days          1  \n",
              "200      366 days          1  \n",
              "107      365 days          1  \n",
              "90         0 days          1  "
            ],
            "text/html": [
              "\n",
              "  <div id=\"df-ee61f3d8-0d4a-491a-bfe7-74cfe4fe291b\">\n",
              "    <div class=\"colab-df-container\">\n",
              "      <div>\n",
              "<style scoped>\n",
              "    .dataframe tbody tr th:only-of-type {\n",
              "        vertical-align: middle;\n",
              "    }\n",
              "\n",
              "    .dataframe tbody tr th {\n",
              "        vertical-align: top;\n",
              "    }\n",
              "\n",
              "    .dataframe thead th {\n",
              "        text-align: right;\n",
              "    }\n",
              "</style>\n",
              "<table border=\"1\" class=\"dataframe\">\n",
              "  <thead>\n",
              "    <tr style=\"text-align: right;\">\n",
              "      <th></th>\n",
              "      <th>Cidade</th>\n",
              "      <th>Data</th>\n",
              "      <th>Vendas</th>\n",
              "      <th>LojaID</th>\n",
              "      <th>Qtde</th>\n",
              "      <th>Receita</th>\n",
              "      <th>Ano_Venda</th>\n",
              "      <th>difernca_dias</th>\n",
              "      <th>mes_venda</th>\n",
              "    </tr>\n",
              "  </thead>\n",
              "  <tbody>\n",
              "    <tr>\n",
              "      <th>116</th>\n",
              "      <td>Recife</td>\n",
              "      <td>2019-03-02</td>\n",
              "      <td>79.10</td>\n",
              "      <td>982</td>\n",
              "      <td>2</td>\n",
              "      <td>158.20</td>\n",
              "      <td>2019</td>\n",
              "      <td>425 days</td>\n",
              "      <td>3</td>\n",
              "    </tr>\n",
              "    <tr>\n",
              "      <th>100</th>\n",
              "      <td>Salvador</td>\n",
              "      <td>2019-01-01</td>\n",
              "      <td>190.97</td>\n",
              "      <td>1036</td>\n",
              "      <td>2</td>\n",
              "      <td>381.94</td>\n",
              "      <td>2019</td>\n",
              "      <td>365 days</td>\n",
              "      <td>1</td>\n",
              "    </tr>\n",
              "    <tr>\n",
              "      <th>200</th>\n",
              "      <td>Salvador</td>\n",
              "      <td>2019-01-02</td>\n",
              "      <td>41.06</td>\n",
              "      <td>1035</td>\n",
              "      <td>1</td>\n",
              "      <td>41.06</td>\n",
              "      <td>2019</td>\n",
              "      <td>366 days</td>\n",
              "      <td>1</td>\n",
              "    </tr>\n",
              "    <tr>\n",
              "      <th>107</th>\n",
              "      <td>Recife</td>\n",
              "      <td>2019-01-01</td>\n",
              "      <td>15.40</td>\n",
              "      <td>980</td>\n",
              "      <td>7</td>\n",
              "      <td>107.80</td>\n",
              "      <td>2019</td>\n",
              "      <td>365 days</td>\n",
              "      <td>1</td>\n",
              "    </tr>\n",
              "    <tr>\n",
              "      <th>90</th>\n",
              "      <td>Aracaju</td>\n",
              "      <td>2018-01-01</td>\n",
              "      <td>16.27</td>\n",
              "      <td>1522</td>\n",
              "      <td>1</td>\n",
              "      <td>16.27</td>\n",
              "      <td>2018</td>\n",
              "      <td>0 days</td>\n",
              "      <td>1</td>\n",
              "    </tr>\n",
              "  </tbody>\n",
              "</table>\n",
              "</div>\n",
              "      <button class=\"colab-df-convert\" onclick=\"convertToInteractive('df-ee61f3d8-0d4a-491a-bfe7-74cfe4fe291b')\"\n",
              "              title=\"Convert this dataframe to an interactive table.\"\n",
              "              style=\"display:none;\">\n",
              "        \n",
              "  <svg xmlns=\"http://www.w3.org/2000/svg\" height=\"24px\"viewBox=\"0 0 24 24\"\n",
              "       width=\"24px\">\n",
              "    <path d=\"M0 0h24v24H0V0z\" fill=\"none\"/>\n",
              "    <path d=\"M18.56 5.44l.94 2.06.94-2.06 2.06-.94-2.06-.94-.94-2.06-.94 2.06-2.06.94zm-11 1L8.5 8.5l.94-2.06 2.06-.94-2.06-.94L8.5 2.5l-.94 2.06-2.06.94zm10 10l.94 2.06.94-2.06 2.06-.94-2.06-.94-.94-2.06-.94 2.06-2.06.94z\"/><path d=\"M17.41 7.96l-1.37-1.37c-.4-.4-.92-.59-1.43-.59-.52 0-1.04.2-1.43.59L10.3 9.45l-7.72 7.72c-.78.78-.78 2.05 0 2.83L4 21.41c.39.39.9.59 1.41.59.51 0 1.02-.2 1.41-.59l7.78-7.78 2.81-2.81c.8-.78.8-2.07 0-2.86zM5.41 20L4 18.59l7.72-7.72 1.47 1.35L5.41 20z\"/>\n",
              "  </svg>\n",
              "      </button>\n",
              "      \n",
              "  <style>\n",
              "    .colab-df-container {\n",
              "      display:flex;\n",
              "      flex-wrap:wrap;\n",
              "      gap: 12px;\n",
              "    }\n",
              "\n",
              "    .colab-df-convert {\n",
              "      background-color: #E8F0FE;\n",
              "      border: none;\n",
              "      border-radius: 50%;\n",
              "      cursor: pointer;\n",
              "      display: none;\n",
              "      fill: #1967D2;\n",
              "      height: 32px;\n",
              "      padding: 0 0 0 0;\n",
              "      width: 32px;\n",
              "    }\n",
              "\n",
              "    .colab-df-convert:hover {\n",
              "      background-color: #E2EBFA;\n",
              "      box-shadow: 0px 1px 2px rgba(60, 64, 67, 0.3), 0px 1px 3px 1px rgba(60, 64, 67, 0.15);\n",
              "      fill: #174EA6;\n",
              "    }\n",
              "\n",
              "    [theme=dark] .colab-df-convert {\n",
              "      background-color: #3B4455;\n",
              "      fill: #D2E3FC;\n",
              "    }\n",
              "\n",
              "    [theme=dark] .colab-df-convert:hover {\n",
              "      background-color: #434B5C;\n",
              "      box-shadow: 0px 1px 3px 1px rgba(0, 0, 0, 0.15);\n",
              "      filter: drop-shadow(0px 1px 2px rgba(0, 0, 0, 0.3));\n",
              "      fill: #FFFFFF;\n",
              "    }\n",
              "  </style>\n",
              "\n",
              "      <script>\n",
              "        const buttonEl =\n",
              "          document.querySelector('#df-ee61f3d8-0d4a-491a-bfe7-74cfe4fe291b button.colab-df-convert');\n",
              "        buttonEl.style.display =\n",
              "          google.colab.kernel.accessAllowed ? 'block' : 'none';\n",
              "\n",
              "        async function convertToInteractive(key) {\n",
              "          const element = document.querySelector('#df-ee61f3d8-0d4a-491a-bfe7-74cfe4fe291b');\n",
              "          const dataTable =\n",
              "            await google.colab.kernel.invokeFunction('convertToInteractive',\n",
              "                                                     [key], {});\n",
              "          if (!dataTable) return;\n",
              "\n",
              "          const docLinkHtml = 'Like what you see? Visit the ' +\n",
              "            '<a target=\"_blank\" href=https://colab.research.google.com/notebooks/data_table.ipynb>data table notebook</a>'\n",
              "            + ' to learn more about interactive tables.';\n",
              "          element.innerHTML = '';\n",
              "          dataTable['output_type'] = 'display_data';\n",
              "          await google.colab.output.renderOutput(dataTable, element);\n",
              "          const docLink = document.createElement('div');\n",
              "          docLink.innerHTML = docLinkHtml;\n",
              "          element.appendChild(docLink);\n",
              "        }\n",
              "      </script>\n",
              "    </div>\n",
              "  </div>\n",
              "  "
            ]
          },
          "metadata": {},
          "execution_count": 54
        }
      ]
    },
    {
      "cell_type": "code",
      "source": [
        "df.groupby(df[\"mes_venda\"])[\"Qtde\"].sum().plot()\n",
        "plt.xlabel(\"Mês\")\n",
        "plt.ylabel(\"Total Produtos Vendidos\");\n",
        "plt.legend()"
      ],
      "metadata": {
        "colab": {
          "base_uri": "https://localhost:8080/",
          "height": 299
        },
        "id": "tQmYT6ZpWClQ",
        "outputId": "b0efd29e-37ae-4d28-eed1-8e1812c4211b"
      },
      "execution_count": null,
      "outputs": [
        {
          "output_type": "execute_result",
          "data": {
            "text/plain": [
              "<matplotlib.legend.Legend at 0x7fb6e788c810>"
            ]
          },
          "metadata": {},
          "execution_count": 56
        },
        {
          "output_type": "display_data",
          "data": {
            "text/plain": [
              "<Figure size 432x288 with 1 Axes>"
            ],
            "image/png": "[encoded data removed]"
          },
          "metadata": {}
        }
      ]
    },
    {
      "cell_type": "markdown",
      "source": [
        "Observe que podemos já passar a expressão como parâmetro ao invés de criá-la."
      ],
      "metadata": {
        "id": "7SZhbz5DX9JU"
      }
    },
    {
      "cell_type": "code",
      "source": [
        "df.groupby(df[\"Data\"].dt.month)[\"Qtde\"].sum().plot(title = \"Total Produtos Verndidos x Mês\")\n",
        "plt.xlabel(\"Mês\")\n",
        "plt.ylabel(\"Total Produtos Vendidos\");\n",
        "plt.legend()"
      ],
      "metadata": {
        "colab": {
          "base_uri": "https://localhost:8080/",
          "height": 316
        },
        "id": "y3My6_g_Wpm0",
        "outputId": "259cb744-18e6-4036-cd3f-5c6ffdf486b4"
      },
      "execution_count": null,
      "outputs": [
        {
          "output_type": "execute_result",
          "data": {
            "text/plain": [
              "<matplotlib.legend.Legend at 0x7fb6e779d690>"
            ]
          },
          "metadata": {},
          "execution_count": 58
        },
        {
          "output_type": "display_data",
          "data": {
            "text/plain": [
              "<Figure size 432x288 with 1 Axes>"
            ],
            "image/png": "[encoded data removed]"
          },
          "metadata": {}
        }
      ]
    },
    {
      "cell_type": "code",
      "source": [
        "df.groupby(df[\"Data\"].dt.month)[\"Qtde\"].sum()"
      ],
      "metadata": {
        "colab": {
          "base_uri": "https://localhost:8080/"
        },
        "id": "0ncqNw33YQO7",
        "outputId": "639205db-5df8-469d-91fa-4dd15dfe2fc0"
      },
      "execution_count": null,
      "outputs": [
        {
          "output_type": "execute_result",
          "data": {
            "text/plain": [
              "Data\n",
              "1     2208\n",
              "2      144\n",
              "3      467\n",
              "4       23\n",
              "5       17\n",
              "6       13\n",
              "7       13\n",
              "8        2\n",
              "9       10\n",
              "10      14\n",
              "11       2\n",
              "12       3\n",
              "Name: Qtde, dtype: int64"
            ]
          },
          "metadata": {},
          "execution_count": 59
        }
      ]
    },
    {
      "cell_type": "code",
      "source": [
        "# Selecionando apenas vendas de 2019\n",
        "df_2019 = df[df[\"Data\"].dt.year == 2019]"
      ],
      "metadata": {
        "id": "YlGLkHCdYgyb"
      },
      "execution_count": null,
      "outputs": []
    },
    {
      "cell_type": "code",
      "source": [
        "df_2019.groupby(df_2019[\"mes_venda\"])[\"Qtde\"].sum().plot(marker = \"v\") # Observe o marcardor \"v\"\n",
        "plt.xlabel(\"Mês\")\n",
        "plt.ylabel(\"Total Produtos Vendidos\");\n",
        "plt.legend()"
      ],
      "metadata": {
        "colab": {
          "base_uri": "https://localhost:8080/",
          "height": 301
        },
        "id": "ggtO9j6CZV2E",
        "outputId": "7e864a45-d0d0-4fe4-8cac-12e825375477"
      },
      "execution_count": null,
      "outputs": [
        {
          "output_type": "execute_result",
          "data": {
            "text/plain": [
              "<matplotlib.legend.Legend at 0x7fb6e7766410>"
            ]
          },
          "metadata": {},
          "execution_count": 62
        },
        {
          "output_type": "display_data",
          "data": {
            "text/plain": [
              "<Figure size 432x288 with 1 Axes>"
            ],
            "image/png": "[encoded data removed]"
          },
          "metadata": {}
        }
      ]
    },
    {
      "cell_type": "code",
      "source": [
        "# Histograma\n",
        "plt.hist(df[\"Qtde\"],color=\"orangered\");"
      ],
      "metadata": {
        "colab": {
          "base_uri": "https://localhost:8080/",
          "height": 265
        },
        "id": "fIA5S-NEWcMA",
        "outputId": "17e34f6b-20ed-44fb-c774-32cf69cc6556"
      },
      "execution_count": null,
      "outputs": [
        {
          "output_type": "display_data",
          "data": {
            "text/plain": [
              "<Figure size 432x288 with 1 Axes>"
            ],
            "image/png": "[encoded data removed]"
          },
          "metadata": {}
        }
      ]
    },
    {
      "cell_type": "code",
      "source": [
        "plt.scatter(x = df_2019[\"Data\"].dt.day, y = df_2019[\"Receita\"]); # Plotando um gráfico de dispersão"
      ],
      "metadata": {
        "colab": {
          "base_uri": "https://localhost:8080/",
          "height": 265
        },
        "id": "cfB7IiZSbNzy",
        "outputId": "5b9c31e8-6660-4d35-b7b5-894871d08cdd"
      },
      "execution_count": null,
      "outputs": [
        {
          "output_type": "display_data",
          "data": {
            "text/plain": [
              "<Figure size 432x288 with 1 Axes>"
            ],
            "image/png": "[encoded data removed]"
          },
          "metadata": {}
        }
      ]
    },
    {
      "cell_type": "code",
      "source": [
        "# Salvando em png\n",
        "df_2019.groupby(df_2019[\"mes_venda\"])[\"Qtde\"].sum().plot(marker = \"v\") # Observe o marcardor \"v\"\n",
        "plt.xlabel(\"Mês\")\n",
        "plt.ylabel(\"Total Produtos Vendidos\");\n",
        "plt.legend()\n",
        "plt.savefig(\"grafico QTDE x MES.png\")"
      ],
      "metadata": {
        "colab": {
          "base_uri": "https://localhost:8080/",
          "height": 284
        },
        "id": "ZddfzLQ3bxCN",
        "outputId": "61be7e43-f778-4c81-af7a-184b6f219454"
      },
      "execution_count": null,
      "outputs": [
        {
          "output_type": "display_data",
          "data": {
            "text/plain": [
              "<Figure size 432x288 with 1 Axes>"
            ],
            "image/png": "[encoded data removed]"
          },
          "metadata": {}
        }
      ]
    }
  ]
}