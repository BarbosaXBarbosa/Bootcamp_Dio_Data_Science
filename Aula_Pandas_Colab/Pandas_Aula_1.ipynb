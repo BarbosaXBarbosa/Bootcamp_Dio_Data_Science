{
  "nbformat": 4,
  "nbformat_minor": 0,
  "metadata": {
    "colab": {
      "provenance": [],
      "collapsed_sections": [],
      "mount_file_id": "12q3KtUuhbV5gNDPbVpI4qu8GPpl2Ktif",
      "authorship_tag": "ABX9TyO0WINADlydqzTDBZsIDMe2",
      "include_colab_link": true
    },
    "kernelspec": {
      "name": "python3",
      "display_name": "Python 3"
    },
    "language_info": {
      "name": "python"
    }
  },
  "cells": [
    {
      "cell_type": "markdown",
      "metadata": {
        "id": "view-in-github",
        "colab_type": "text"
      },
      "source": [
        "<a href=\"https://colab.research.google.com/github/BarbosaXBarbosa/Bootcamp_Dio_Data_Science/blob/main/Pandas_Aula_1.ipynb\" target=\"_parent\"><img src=\"https://colab.research.google.com/assets/colab-badge.svg\" alt=\"Open In Colab\"/></a>"
      ]
    },
    {
      "cell_type": "markdown",
      "source": [
        "# Python para análise de dados(Pandas)"
      ],
      "metadata": {
        "id": "gIR4efLpTsam"
      }
    },
    {
      "cell_type": "code",
      "execution_count": null,
      "metadata": {
        "id": "uWwnT7dTTkk3"
      },
      "outputs": [],
      "source": []
    }
  ]
}